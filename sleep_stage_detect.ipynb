{
 "cells": [
  {
   "cell_type": "markdown",
   "metadata": {},
   "source": [
    "# Sleep stage classifier\n",
    "\n",
    "## Aim of project\n",
    "\n",
    "- Train a model to **classify** sleep data obtained from mice (*Mus musculus*) into wake, NREM sleep and REM sleep epochs. \n",
    "\n",
    "- Features  are derived from **continuous time series** muscle activty in the electromoyogram (EMG) and brain wave activity in the electroencephalogram (EEG). \n",
    "\n",
    "- An expert human sleep stage scorer classified each 5-second epoch into one of three classes (wake, NREM sleep or REM sleep) by visualizing the raw EEG and EMG.\n",
    "\n",
    "- Manual classification of sleep is a labor-intensive process. Developing a model to accurately and automatically classify stages of sleep from mouse EEG and EMG recordings has the potential to save sleep scientists a lot of time!\n",
    "\n",
    "\n",
    "## Features\n",
    "\n",
    "The data is imported from a **.mat** file. Each feature, the target class, and start time are saved as separate dictionaries in this file. The features dictionaries and class dictionary hold **continuous time series data** which **start at the same time** but are sampled at different **sampling frequencies**.\n",
    "\n",
    "- *Start*: The start time of all the features and the class\n",
    "\n",
    "- *EMG*: Muscle activity, sampled at 500 Hz\n",
    "\n",
    "- *Theta*: Brain wave activity in the theta band, sampled at 10 Hz\n",
    "\n",
    "- *Delta*: Brain wave activity in the delta band, sampled at 10 Hz\n",
    "\n",
    "- *T_D*: The theta: delta ratio, sampled at 10 Hz\n",
    "\n",
    "- *Alpha*: Brain wave activity in the alpha and beta bands, sampled at 10 Hz\n",
    "\n",
    "- *Low Gamma*: Brain wave activity in the low gamma band, sampled at 10 Hz\n",
    "\n",
    "- *Stage*: The sleep stage (**target class**) that each 5-second epoch was assigned to by the expert human scorer \n",
    "    - *wake* = 1\n",
    "    - *NREM sleep*  = 2\n",
    "    - *REM sleep* = 3"
   ]
  },
  {
   "cell_type": "markdown",
   "metadata": {},
   "source": [
    "#### Import libraries"
   ]
  },
  {
   "cell_type": "code",
   "execution_count": 1,
   "metadata": {},
   "outputs": [],
   "source": [
    "import numpy as np\n",
    "import scipy.io as sio\n",
    "import pandas as pd\n",
    "import datetime as dt\n",
    "import matplotlib.pyplot as plt\n",
    "%matplotlib inline\n",
    "import seaborn as sns"
   ]
  },
  {
   "cell_type": "markdown",
   "metadata": {},
   "source": [
    "#### Load data from MATLAB file and extract dictionaries\n"
   ]
  },
  {
   "cell_type": "code",
   "execution_count": 2,
   "metadata": {},
   "outputs": [],
   "source": [
    "data = sio.loadmat('ls46_5onoff_data.mat')\n",
    "\n",
    "for key in data.keys():\n",
    "    if key.startswith('EMG'):           # extract feature dictionaries\n",
    "        emg_dict = data[key]\n",
    "    elif key.startswith('T_D'):\n",
    "        td_dict = data[key]\n",
    "    elif key.startswith('Delta'):\n",
    "        delta_dict = data[key]\n",
    "    elif key.startswith('Theta'):\n",
    "        theta_dict = data[key]\n",
    "    elif key.startswith('alpha'):\n",
    "        alphabeta_dict = data[key]\n",
    "    elif key.startswith('low_gamma'):\n",
    "        low_gamma_dict = data[key]\n",
    "    elif key.startswith('Stage'):            # extract class dictionary\n",
    "        stage_dict = data[key]\n",
    "    elif key.startswith('start'):             # extract start time\n",
    "        start_dict = data[key]"
   ]
  },
  {
   "cell_type": "markdown",
   "metadata": {},
   "source": [
    "## Extract feature data and align to the same timebase as the target class\n",
    "\n",
    "Because the continuous time series feature and class data start at the same time but are sampled at different sampling frequencies, the feature data need to be aligned to the target class data.\n",
    "\n",
    "The following code will extract the feature values from each feature dictionary and align it to the class data by summing the feature data every 5 seconds."
   ]
  },
  {
   "cell_type": "markdown",
   "metadata": {},
   "source": [
    "#### 1. Determine how many epochs have been classified"
   ]
  },
  {
   "cell_type": "code",
   "execution_count": 3,
   "metadata": {},
   "outputs": [],
   "source": [
    "num_epochs = np.size(stage_dict['codes'][0][0][:],0)-1     # we can't use the last epoch as there isn't a full 5 seconds at the end of the recording"
   ]
  },
  {
   "cell_type": "markdown",
   "metadata": {},
   "source": [
    "#### 2. Create a function to extract feature values and align to 5 second epochs"
   ]
  },
  {
   "cell_type": "code",
   "execution_count": 4,
   "metadata": {},
   "outputs": [],
   "source": [
    "def align_features(feature_struct,num_epochs): \n",
    "    feature_data = feature_struct['values'][0][0][:,0]   # Extract feature data from each feature dictionary\n",
    "    Hz = int(1/feature_struct['interval'][0][0][0][0])  # Determine the sampling interval of the data points in this feature\n",
    "    datapoints_to_sum = Hz*5  # Calculate the number of data points in 5 seconds\n",
    "    data_slice = feature_data[0:(datapoints_to_sum*num_epochs)]  # prepare array data to be reshaped into feature matrix\n",
    "    feature_matrix = np.reshape(data_slice,(num_epochs,datapoints_to_sum))   # reshape data so can sum along rows\n",
    "    aligned_feature = np.sum(feature_matrix,1)    # sum along each row to get 5 second sums\n",
    "    return aligned_feature"
   ]
  },
  {
   "cell_type": "markdown",
   "metadata": {},
   "source": [
    "#### 3. Apply *align_features* function to feature dictionaries"
   ]
  },
  {
   "cell_type": "code",
   "execution_count": 5,
   "metadata": {},
   "outputs": [],
   "source": [
    "emg = align_features(emg_dict, num_epochs)\n",
    "td = align_features(td_dict, num_epochs)\n",
    "theta = align_features(theta_dict, num_epochs)\n",
    "delta = align_features(delta_dict, num_epochs)\n",
    "alphabeta = align_features(alphabeta_dict, num_epochs)\n",
    "low_gamma = align_features(low_gamma_dict, num_epochs)"
   ]
  },
  {
   "cell_type": "markdown",
   "metadata": {},
   "source": [
    "### Construct dataframe for features and class"
   ]
  },
  {
   "cell_type": "code",
   "execution_count": 6,
   "metadata": {},
   "outputs": [
    {
     "data": {
      "text/html": [
       "<div>\n",
       "<style scoped>\n",
       "    .dataframe tbody tr th:only-of-type {\n",
       "        vertical-align: middle;\n",
       "    }\n",
       "\n",
       "    .dataframe tbody tr th {\n",
       "        vertical-align: top;\n",
       "    }\n",
       "\n",
       "    .dataframe thead th {\n",
       "        text-align: right;\n",
       "    }\n",
       "</style>\n",
       "<table border=\"1\" class=\"dataframe\">\n",
       "  <thead>\n",
       "    <tr style=\"text-align: right;\">\n",
       "      <th></th>\n",
       "      <th>emg</th>\n",
       "      <th>td</th>\n",
       "      <th>theta</th>\n",
       "      <th>delta</th>\n",
       "      <th>alphabeta</th>\n",
       "      <th>low_gamma</th>\n",
       "      <th>class</th>\n",
       "    </tr>\n",
       "  </thead>\n",
       "  <tbody>\n",
       "    <tr>\n",
       "      <td>0</td>\n",
       "      <td>16.282654</td>\n",
       "      <td>7.007887</td>\n",
       "      <td>0.196086</td>\n",
       "      <td>1.379307</td>\n",
       "      <td>0.125634</td>\n",
       "      <td>0.089396</td>\n",
       "      <td>1</td>\n",
       "    </tr>\n",
       "    <tr>\n",
       "      <td>1</td>\n",
       "      <td>2.715759</td>\n",
       "      <td>9.665851</td>\n",
       "      <td>0.460911</td>\n",
       "      <td>2.362047</td>\n",
       "      <td>0.218540</td>\n",
       "      <td>0.118814</td>\n",
       "      <td>2</td>\n",
       "    </tr>\n",
       "    <tr>\n",
       "      <td>2</td>\n",
       "      <td>-0.770569</td>\n",
       "      <td>12.110207</td>\n",
       "      <td>0.619068</td>\n",
       "      <td>2.566740</td>\n",
       "      <td>0.299538</td>\n",
       "      <td>0.155130</td>\n",
       "      <td>2</td>\n",
       "    </tr>\n",
       "    <tr>\n",
       "      <td>3</td>\n",
       "      <td>21.119690</td>\n",
       "      <td>14.197604</td>\n",
       "      <td>0.648419</td>\n",
       "      <td>2.287192</td>\n",
       "      <td>0.326630</td>\n",
       "      <td>0.160255</td>\n",
       "      <td>2</td>\n",
       "    </tr>\n",
       "    <tr>\n",
       "      <td>4</td>\n",
       "      <td>5.499268</td>\n",
       "      <td>16.312177</td>\n",
       "      <td>0.779486</td>\n",
       "      <td>2.386870</td>\n",
       "      <td>0.373140</td>\n",
       "      <td>0.179540</td>\n",
       "      <td>2</td>\n",
       "    </tr>\n",
       "  </tbody>\n",
       "</table>\n",
       "</div>"
      ],
      "text/plain": [
       "         emg         td     theta     delta  alphabeta  low_gamma  class\n",
       "0  16.282654   7.007887  0.196086  1.379307   0.125634   0.089396      1\n",
       "1   2.715759   9.665851  0.460911  2.362047   0.218540   0.118814      2\n",
       "2  -0.770569  12.110207  0.619068  2.566740   0.299538   0.155130      2\n",
       "3  21.119690  14.197604  0.648419  2.287192   0.326630   0.160255      2\n",
       "4   5.499268  16.312177  0.779486  2.386870   0.373140   0.179540      2"
      ]
     },
     "execution_count": 6,
     "metadata": {},
     "output_type": "execute_result"
    }
   ],
   "source": [
    "d = {'emg': emg, 'td' : td, 'theta': theta, 'delta': delta, \n",
    "    'alphabeta': alphabeta, 'low_gamma': low_gamma}\n",
    "df = pd.DataFrame(data=d)\n",
    "df['class'] = stage_dict['codes'][0][0][:-1,0]\n",
    "df.head()"
   ]
  },
  {
   "cell_type": "markdown",
   "metadata": {},
   "source": [
    "## Training a model to classify sleep stages: Support Vector Machine\n",
    "\n",
    "#### 1. Perform Train Test Split to split our data into training data and test data"
   ]
  },
  {
   "cell_type": "code",
   "execution_count": 7,
   "metadata": {},
   "outputs": [],
   "source": [
    "X = df[['emg', 'td', 'theta', 'delta', 'alphabeta', 'low_gamma']]\n",
    "y = df['class']"
   ]
  },
  {
   "cell_type": "code",
   "execution_count": 8,
   "metadata": {},
   "outputs": [],
   "source": [
    "from sklearn.model_selection import train_test_split\n",
    "X_train, X_test, y_train, y_test = train_test_split(X, y, test_size=0.3, random_state=42)"
   ]
  },
  {
   "cell_type": "markdown",
   "metadata": {},
   "source": [
    "#### 2. Perform feature scaling"
   ]
  },
  {
   "cell_type": "code",
   "execution_count": 9,
   "metadata": {},
   "outputs": [
    {
     "data": {
      "text/plain": [
       "StandardScaler(copy=True, with_mean=True, with_std=True)"
      ]
     },
     "execution_count": 9,
     "metadata": {},
     "output_type": "execute_result"
    }
   ],
   "source": [
    "from sklearn.preprocessing import StandardScaler\n",
    "scaler = StandardScaler()\n",
    "scaler.fit(X_train)"
   ]
  },
  {
   "cell_type": "code",
   "execution_count": 10,
   "metadata": {},
   "outputs": [],
   "source": [
    "X_train = scaler.transform(X_train)\n",
    "X_test = scaler.transform(X_test)"
   ]
  },
  {
   "cell_type": "markdown",
   "metadata": {},
   "source": [
    "#### 3. Train the Model using a Support Vector Machine\n",
    "\n",
    "Because the number of samples (classfied epochs) is intermediate and the number of features small, I will first implement the SVM using a Gaussian kernel"
   ]
  },
  {
   "cell_type": "code",
   "execution_count": 11,
   "metadata": {},
   "outputs": [
    {
     "data": {
      "text/plain": [
       "SVC(C=1.0, cache_size=200, class_weight=None, coef0=0.0,\n",
       "    decision_function_shape='ovr', degree=3, gamma='auto_deprecated',\n",
       "    kernel='rbf', max_iter=-1, probability=False, random_state=None,\n",
       "    shrinking=True, tol=0.001, verbose=False)"
      ]
     },
     "execution_count": 11,
     "metadata": {},
     "output_type": "execute_result"
    }
   ],
   "source": [
    "from sklearn.svm import SVC\n",
    "clf = SVC()\n",
    "clf.fit(X_train, y_train)"
   ]
  },
  {
   "cell_type": "markdown",
   "metadata": {},
   "source": [
    "#### 4. Make predictions on the test data (X_test) based on the fitted SVC model"
   ]
  },
  {
   "cell_type": "code",
   "execution_count": 12,
   "metadata": {},
   "outputs": [],
   "source": [
    "clf_predictions = clf.predict(X_test)"
   ]
  },
  {
   "cell_type": "markdown",
   "metadata": {},
   "source": [
    "#### 5. Evaluate predictions against actual test data (y_test) classifications"
   ]
  },
  {
   "cell_type": "code",
   "execution_count": 13,
   "metadata": {},
   "outputs": [
    {
     "name": "stdout",
     "output_type": "stream",
     "text": [
      "[[ 632   33    5]\n",
      " [  40 1034    6]\n",
      " [   8    8  178]]\n",
      "              precision    recall  f1-score   support\n",
      "\n",
      "           1       0.93      0.94      0.94       670\n",
      "           2       0.96      0.96      0.96      1080\n",
      "           3       0.94      0.92      0.93       194\n",
      "\n",
      "    accuracy                           0.95      1944\n",
      "   macro avg       0.94      0.94      0.94      1944\n",
      "weighted avg       0.95      0.95      0.95      1944\n",
      "\n"
     ]
    }
   ],
   "source": [
    "from sklearn.metrics import confusion_matrix, classification_report\n",
    "print(confusion_matrix(y_test,clf_predictions))\n",
    "print(classification_report(y_test,clf_predictions))"
   ]
  },
  {
   "cell_type": "markdown",
   "metadata": {},
   "source": [
    "The data is quite skewed (more of category 2 (NREM sleep) than category 1 (wake) or category 3 (REM sleep)), hence the F1-score gives the most useful metric in determining how good our model was. Our model does not fit the data perfectly and there may be some room for improvement. To this end, we will adjust the parameters of our model using GridSearchCV to help us find the best hyperparameters.\n",
    "\n",
    "## Gridsearch"
   ]
  },
  {
   "cell_type": "code",
   "execution_count": 14,
   "metadata": {},
   "outputs": [
    {
     "name": "stdout",
     "output_type": "stream",
     "text": [
      "Fitting 3 folds for each of 50 candidates, totalling 150 fits\n",
      "[CV] C=0.1, gamma=1, kernel=linear ...................................\n",
      "[CV] ....... C=0.1, gamma=1, kernel=linear, score=0.942, total=   0.1s\n",
      "[CV] C=0.1, gamma=1, kernel=linear ...................................\n",
      "[CV] ....... C=0.1, gamma=1, kernel=linear, score=0.941, total=   0.0s\n",
      "[CV] C=0.1, gamma=1, kernel=linear ...................................\n",
      "[CV] ....... C=0.1, gamma=1, kernel=linear, score=0.930, total=   0.0s\n",
      "[CV] C=0.1, gamma=1, kernel=rbf ......................................\n"
     ]
    },
    {
     "name": "stderr",
     "output_type": "stream",
     "text": [
      "C:\\ProgramData\\Anaconda3\\lib\\site-packages\\sklearn\\model_selection\\_split.py:1978: FutureWarning: The default value of cv will change from 3 to 5 in version 0.22. Specify it explicitly to silence this warning.\n",
      "  warnings.warn(CV_WARNING, FutureWarning)\n",
      "[Parallel(n_jobs=1)]: Using backend SequentialBackend with 1 concurrent workers.\n",
      "[Parallel(n_jobs=1)]: Done   1 out of   1 | elapsed:    0.0s remaining:    0.0s\n",
      "[Parallel(n_jobs=1)]: Done   2 out of   2 | elapsed:    0.0s remaining:    0.0s\n"
     ]
    },
    {
     "name": "stdout",
     "output_type": "stream",
     "text": [
      "[CV] .......... C=0.1, gamma=1, kernel=rbf, score=0.935, total=   0.2s\n",
      "[CV] C=0.1, gamma=1, kernel=rbf ......................................\n",
      "[CV] .......... C=0.1, gamma=1, kernel=rbf, score=0.932, total=   0.2s\n",
      "[CV] C=0.1, gamma=1, kernel=rbf ......................................\n",
      "[CV] .......... C=0.1, gamma=1, kernel=rbf, score=0.924, total=   0.2s\n",
      "[CV] C=0.1, gamma=0.1, kernel=linear .................................\n",
      "[CV] ..... C=0.1, gamma=0.1, kernel=linear, score=0.942, total=   0.1s\n",
      "[CV] C=0.1, gamma=0.1, kernel=linear .................................\n",
      "[CV] ..... C=0.1, gamma=0.1, kernel=linear, score=0.941, total=   0.1s\n",
      "[CV] C=0.1, gamma=0.1, kernel=linear .................................\n",
      "[CV] ..... C=0.1, gamma=0.1, kernel=linear, score=0.930, total=   0.1s\n",
      "[CV] C=0.1, gamma=0.1, kernel=rbf ....................................\n",
      "[CV] ........ C=0.1, gamma=0.1, kernel=rbf, score=0.935, total=   0.2s\n",
      "[CV] C=0.1, gamma=0.1, kernel=rbf ....................................\n",
      "[CV] ........ C=0.1, gamma=0.1, kernel=rbf, score=0.938, total=   0.1s\n",
      "[CV] C=0.1, gamma=0.1, kernel=rbf ....................................\n",
      "[CV] ........ C=0.1, gamma=0.1, kernel=rbf, score=0.926, total=   0.1s\n",
      "[CV] C=0.1, gamma=0.01, kernel=linear ................................\n",
      "[CV] .... C=0.1, gamma=0.01, kernel=linear, score=0.942, total=   0.1s\n",
      "[CV] C=0.1, gamma=0.01, kernel=linear ................................\n",
      "[CV] .... C=0.1, gamma=0.01, kernel=linear, score=0.941, total=   0.0s\n",
      "[CV] C=0.1, gamma=0.01, kernel=linear ................................\n",
      "[CV] .... C=0.1, gamma=0.01, kernel=linear, score=0.930, total=   0.0s\n",
      "[CV] C=0.1, gamma=0.01, kernel=rbf ...................................\n",
      "[CV] ....... C=0.1, gamma=0.01, kernel=rbf, score=0.911, total=   0.2s\n",
      "[CV] C=0.1, gamma=0.01, kernel=rbf ...................................\n",
      "[CV] ....... C=0.1, gamma=0.01, kernel=rbf, score=0.911, total=   0.2s\n",
      "[CV] C=0.1, gamma=0.01, kernel=rbf ...................................\n",
      "[CV] ....... C=0.1, gamma=0.01, kernel=rbf, score=0.899, total=   0.2s\n",
      "[CV] C=0.1, gamma=0.001, kernel=linear ...............................\n",
      "[CV] ... C=0.1, gamma=0.001, kernel=linear, score=0.942, total=   0.1s\n",
      "[CV] C=0.1, gamma=0.001, kernel=linear ...............................\n",
      "[CV] ... C=0.1, gamma=0.001, kernel=linear, score=0.941, total=   0.0s\n",
      "[CV] C=0.1, gamma=0.001, kernel=linear ...............................\n",
      "[CV] ... C=0.1, gamma=0.001, kernel=linear, score=0.930, total=   0.0s\n",
      "[CV] C=0.1, gamma=0.001, kernel=rbf ..................................\n",
      "[CV] ...... C=0.1, gamma=0.001, kernel=rbf, score=0.573, total=   0.3s\n",
      "[CV] C=0.1, gamma=0.001, kernel=rbf ..................................\n",
      "[CV] ...... C=0.1, gamma=0.001, kernel=rbf, score=0.571, total=   0.3s\n",
      "[CV] C=0.1, gamma=0.001, kernel=rbf ..................................\n",
      "[CV] ...... C=0.1, gamma=0.001, kernel=rbf, score=0.571, total=   0.3s\n",
      "[CV] C=0.1, gamma=0.0001, kernel=linear ..............................\n",
      "[CV] .. C=0.1, gamma=0.0001, kernel=linear, score=0.942, total=   0.0s\n",
      "[CV] C=0.1, gamma=0.0001, kernel=linear ..............................\n",
      "[CV] .. C=0.1, gamma=0.0001, kernel=linear, score=0.941, total=   0.0s\n",
      "[CV] C=0.1, gamma=0.0001, kernel=linear ..............................\n",
      "[CV] .. C=0.1, gamma=0.0001, kernel=linear, score=0.930, total=   0.0s\n",
      "[CV] C=0.1, gamma=0.0001, kernel=rbf .................................\n",
      "[CV] ..... C=0.1, gamma=0.0001, kernel=rbf, score=0.570, total=   0.3s\n",
      "[CV] C=0.1, gamma=0.0001, kernel=rbf .................................\n",
      "[CV] ..... C=0.1, gamma=0.0001, kernel=rbf, score=0.570, total=   0.3s\n",
      "[CV] C=0.1, gamma=0.0001, kernel=rbf .................................\n",
      "[CV] ..... C=0.1, gamma=0.0001, kernel=rbf, score=0.570, total=   0.3s\n",
      "[CV] C=1, gamma=1, kernel=linear .....................................\n",
      "[CV] ......... C=1, gamma=1, kernel=linear, score=0.946, total=   0.0s\n",
      "[CV] C=1, gamma=1, kernel=linear .....................................\n",
      "[CV] ......... C=1, gamma=1, kernel=linear, score=0.947, total=   0.0s\n",
      "[CV] C=1, gamma=1, kernel=linear .....................................\n",
      "[CV] ......... C=1, gamma=1, kernel=linear, score=0.936, total=   0.0s\n",
      "[CV] C=1, gamma=1, kernel=rbf ........................................\n",
      "[CV] ............ C=1, gamma=1, kernel=rbf, score=0.951, total=   0.1s\n",
      "[CV] C=1, gamma=1, kernel=rbf ........................................\n",
      "[CV] ............ C=1, gamma=1, kernel=rbf, score=0.947, total=   0.1s\n",
      "[CV] C=1, gamma=1, kernel=rbf ........................................\n",
      "[CV] ............ C=1, gamma=1, kernel=rbf, score=0.940, total=   0.1s\n",
      "[CV] C=1, gamma=0.1, kernel=linear ...................................\n",
      "[CV] ....... C=1, gamma=0.1, kernel=linear, score=0.946, total=   0.1s\n",
      "[CV] C=1, gamma=0.1, kernel=linear ...................................\n",
      "[CV] ....... C=1, gamma=0.1, kernel=linear, score=0.947, total=   0.0s\n",
      "[CV] C=1, gamma=0.1, kernel=linear ...................................\n",
      "[CV] ....... C=1, gamma=0.1, kernel=linear, score=0.936, total=   0.0s\n",
      "[CV] C=1, gamma=0.1, kernel=rbf ......................................\n",
      "[CV] .......... C=1, gamma=0.1, kernel=rbf, score=0.948, total=   0.1s\n",
      "[CV] C=1, gamma=0.1, kernel=rbf ......................................\n",
      "[CV] .......... C=1, gamma=0.1, kernel=rbf, score=0.949, total=   0.1s\n",
      "[CV] C=1, gamma=0.1, kernel=rbf ......................................\n",
      "[CV] .......... C=1, gamma=0.1, kernel=rbf, score=0.940, total=   0.1s\n",
      "[CV] C=1, gamma=0.01, kernel=linear ..................................\n",
      "[CV] ...... C=1, gamma=0.01, kernel=linear, score=0.946, total=   0.0s\n",
      "[CV] C=1, gamma=0.01, kernel=linear ..................................\n",
      "[CV] ...... C=1, gamma=0.01, kernel=linear, score=0.947, total=   0.1s\n",
      "[CV] C=1, gamma=0.01, kernel=linear ..................................\n",
      "[CV] ...... C=1, gamma=0.01, kernel=linear, score=0.936, total=   0.0s\n",
      "[CV] C=1, gamma=0.01, kernel=rbf .....................................\n",
      "[CV] ......... C=1, gamma=0.01, kernel=rbf, score=0.935, total=   0.1s\n",
      "[CV] C=1, gamma=0.01, kernel=rbf .....................................\n",
      "[CV] ......... C=1, gamma=0.01, kernel=rbf, score=0.936, total=   0.1s\n",
      "[CV] C=1, gamma=0.01, kernel=rbf .....................................\n",
      "[CV] ......... C=1, gamma=0.01, kernel=rbf, score=0.925, total=   0.1s\n",
      "[CV] C=1, gamma=0.001, kernel=linear .................................\n",
      "[CV] ..... C=1, gamma=0.001, kernel=linear, score=0.946, total=   0.1s\n",
      "[CV] C=1, gamma=0.001, kernel=linear .................................\n",
      "[CV] ..... C=1, gamma=0.001, kernel=linear, score=0.947, total=   0.0s\n",
      "[CV] C=1, gamma=0.001, kernel=linear .................................\n",
      "[CV] ..... C=1, gamma=0.001, kernel=linear, score=0.936, total=   0.0s\n",
      "[CV] C=1, gamma=0.001, kernel=rbf ....................................\n",
      "[CV] ........ C=1, gamma=0.001, kernel=rbf, score=0.912, total=   0.2s\n",
      "[CV] C=1, gamma=0.001, kernel=rbf ....................................\n",
      "[CV] ........ C=1, gamma=0.001, kernel=rbf, score=0.910, total=   0.2s\n",
      "[CV] C=1, gamma=0.001, kernel=rbf ....................................\n",
      "[CV] ........ C=1, gamma=0.001, kernel=rbf, score=0.896, total=   0.3s\n",
      "[CV] C=1, gamma=0.0001, kernel=linear ................................\n",
      "[CV] .... C=1, gamma=0.0001, kernel=linear, score=0.946, total=   0.1s\n",
      "[CV] C=1, gamma=0.0001, kernel=linear ................................\n",
      "[CV] .... C=1, gamma=0.0001, kernel=linear, score=0.947, total=   0.1s\n",
      "[CV] C=1, gamma=0.0001, kernel=linear ................................\n",
      "[CV] .... C=1, gamma=0.0001, kernel=linear, score=0.936, total=   0.1s\n",
      "[CV] C=1, gamma=0.0001, kernel=rbf ...................................\n",
      "[CV] ....... C=1, gamma=0.0001, kernel=rbf, score=0.573, total=   0.3s\n",
      "[CV] C=1, gamma=0.0001, kernel=rbf ...................................\n",
      "[CV] ....... C=1, gamma=0.0001, kernel=rbf, score=0.572, total=   0.3s\n",
      "[CV] C=1, gamma=0.0001, kernel=rbf ...................................\n",
      "[CV] ....... C=1, gamma=0.0001, kernel=rbf, score=0.572, total=   0.3s\n",
      "[CV] C=10, gamma=1, kernel=linear ....................................\n",
      "[CV] ........ C=10, gamma=1, kernel=linear, score=0.947, total=   0.1s\n",
      "[CV] C=10, gamma=1, kernel=linear ....................................\n",
      "[CV] ........ C=10, gamma=1, kernel=linear, score=0.948, total=   0.1s\n",
      "[CV] C=10, gamma=1, kernel=linear ....................................\n"
     ]
    },
    {
     "name": "stdout",
     "output_type": "stream",
     "text": [
      "[CV] ........ C=10, gamma=1, kernel=linear, score=0.938, total=   0.1s\n",
      "[CV] C=10, gamma=1, kernel=rbf .......................................\n",
      "[CV] ........... C=10, gamma=1, kernel=rbf, score=0.943, total=   0.1s\n",
      "[CV] C=10, gamma=1, kernel=rbf .......................................\n",
      "[CV] ........... C=10, gamma=1, kernel=rbf, score=0.946, total=   0.1s\n",
      "[CV] C=10, gamma=1, kernel=rbf .......................................\n",
      "[CV] ........... C=10, gamma=1, kernel=rbf, score=0.938, total=   0.1s\n",
      "[CV] C=10, gamma=0.1, kernel=linear ..................................\n",
      "[CV] ...... C=10, gamma=0.1, kernel=linear, score=0.947, total=   0.1s\n",
      "[CV] C=10, gamma=0.1, kernel=linear ..................................\n",
      "[CV] ...... C=10, gamma=0.1, kernel=linear, score=0.948, total=   0.1s\n",
      "[CV] C=10, gamma=0.1, kernel=linear ..................................\n",
      "[CV] ...... C=10, gamma=0.1, kernel=linear, score=0.938, total=   0.1s\n",
      "[CV] C=10, gamma=0.1, kernel=rbf .....................................\n",
      "[CV] ......... C=10, gamma=0.1, kernel=rbf, score=0.952, total=   0.1s\n",
      "[CV] C=10, gamma=0.1, kernel=rbf .....................................\n",
      "[CV] ......... C=10, gamma=0.1, kernel=rbf, score=0.950, total=   0.1s\n",
      "[CV] C=10, gamma=0.1, kernel=rbf .....................................\n",
      "[CV] ......... C=10, gamma=0.1, kernel=rbf, score=0.943, total=   0.1s\n",
      "[CV] C=10, gamma=0.01, kernel=linear .................................\n",
      "[CV] ..... C=10, gamma=0.01, kernel=linear, score=0.947, total=   0.2s\n",
      "[CV] C=10, gamma=0.01, kernel=linear .................................\n",
      "[CV] ..... C=10, gamma=0.01, kernel=linear, score=0.948, total=   0.1s\n",
      "[CV] C=10, gamma=0.01, kernel=linear .................................\n",
      "[CV] ..... C=10, gamma=0.01, kernel=linear, score=0.938, total=   0.1s\n",
      "[CV] C=10, gamma=0.01, kernel=rbf ....................................\n",
      "[CV] ........ C=10, gamma=0.01, kernel=rbf, score=0.947, total=   0.1s\n",
      "[CV] C=10, gamma=0.01, kernel=rbf ....................................\n",
      "[CV] ........ C=10, gamma=0.01, kernel=rbf, score=0.945, total=   0.1s\n",
      "[CV] C=10, gamma=0.01, kernel=rbf ....................................\n",
      "[CV] ........ C=10, gamma=0.01, kernel=rbf, score=0.939, total=   0.1s\n",
      "[CV] C=10, gamma=0.001, kernel=linear ................................\n",
      "[CV] .... C=10, gamma=0.001, kernel=linear, score=0.947, total=   0.1s\n",
      "[CV] C=10, gamma=0.001, kernel=linear ................................\n",
      "[CV] .... C=10, gamma=0.001, kernel=linear, score=0.948, total=   0.1s\n",
      "[CV] C=10, gamma=0.001, kernel=linear ................................\n",
      "[CV] .... C=10, gamma=0.001, kernel=linear, score=0.938, total=   0.1s\n",
      "[CV] C=10, gamma=0.001, kernel=rbf ...................................\n",
      "[CV] ....... C=10, gamma=0.001, kernel=rbf, score=0.933, total=   0.1s\n",
      "[CV] C=10, gamma=0.001, kernel=rbf ...................................\n",
      "[CV] ....... C=10, gamma=0.001, kernel=rbf, score=0.935, total=   0.1s\n",
      "[CV] C=10, gamma=0.001, kernel=rbf ...................................\n",
      "[CV] ....... C=10, gamma=0.001, kernel=rbf, score=0.925, total=   0.1s\n",
      "[CV] C=10, gamma=0.0001, kernel=linear ...............................\n",
      "[CV] ... C=10, gamma=0.0001, kernel=linear, score=0.947, total=   0.1s\n",
      "[CV] C=10, gamma=0.0001, kernel=linear ...............................\n",
      "[CV] ... C=10, gamma=0.0001, kernel=linear, score=0.948, total=   0.1s\n",
      "[CV] C=10, gamma=0.0001, kernel=linear ...............................\n",
      "[CV] ... C=10, gamma=0.0001, kernel=linear, score=0.938, total=   0.1s\n",
      "[CV] C=10, gamma=0.0001, kernel=rbf ..................................\n",
      "[CV] ...... C=10, gamma=0.0001, kernel=rbf, score=0.911, total=   0.2s\n",
      "[CV] C=10, gamma=0.0001, kernel=rbf ..................................\n",
      "[CV] ...... C=10, gamma=0.0001, kernel=rbf, score=0.909, total=   0.2s\n",
      "[CV] C=10, gamma=0.0001, kernel=rbf ..................................\n",
      "[CV] ...... C=10, gamma=0.0001, kernel=rbf, score=0.896, total=   0.2s\n",
      "[CV] C=100, gamma=1, kernel=linear ...................................\n",
      "[CV] ....... C=100, gamma=1, kernel=linear, score=0.948, total=   0.4s\n",
      "[CV] C=100, gamma=1, kernel=linear ...................................\n",
      "[CV] ....... C=100, gamma=1, kernel=linear, score=0.948, total=   0.6s\n",
      "[CV] C=100, gamma=1, kernel=linear ...................................\n",
      "[CV] ....... C=100, gamma=1, kernel=linear, score=0.938, total=   0.6s\n",
      "[CV] C=100, gamma=1, kernel=rbf ......................................\n",
      "[CV] .......... C=100, gamma=1, kernel=rbf, score=0.930, total=   0.2s\n",
      "[CV] C=100, gamma=1, kernel=rbf ......................................\n",
      "[CV] .......... C=100, gamma=1, kernel=rbf, score=0.931, total=   0.1s\n",
      "[CV] C=100, gamma=1, kernel=rbf ......................................\n",
      "[CV] .......... C=100, gamma=1, kernel=rbf, score=0.930, total=   0.1s\n",
      "[CV] C=100, gamma=0.1, kernel=linear .................................\n",
      "[CV] ..... C=100, gamma=0.1, kernel=linear, score=0.948, total=   0.5s\n",
      "[CV] C=100, gamma=0.1, kernel=linear .................................\n",
      "[CV] ..... C=100, gamma=0.1, kernel=linear, score=0.948, total=   0.6s\n",
      "[CV] C=100, gamma=0.1, kernel=linear .................................\n",
      "[CV] ..... C=100, gamma=0.1, kernel=linear, score=0.938, total=   0.6s\n",
      "[CV] C=100, gamma=0.1, kernel=rbf ....................................\n",
      "[CV] ........ C=100, gamma=0.1, kernel=rbf, score=0.951, total=   0.1s\n",
      "[CV] C=100, gamma=0.1, kernel=rbf ....................................\n",
      "[CV] ........ C=100, gamma=0.1, kernel=rbf, score=0.948, total=   0.1s\n",
      "[CV] C=100, gamma=0.1, kernel=rbf ....................................\n",
      "[CV] ........ C=100, gamma=0.1, kernel=rbf, score=0.943, total=   0.1s\n",
      "[CV] C=100, gamma=0.01, kernel=linear ................................\n",
      "[CV] .... C=100, gamma=0.01, kernel=linear, score=0.948, total=   0.6s\n",
      "[CV] C=100, gamma=0.01, kernel=linear ................................\n",
      "[CV] .... C=100, gamma=0.01, kernel=linear, score=0.948, total=   0.6s\n",
      "[CV] C=100, gamma=0.01, kernel=linear ................................\n",
      "[CV] .... C=100, gamma=0.01, kernel=linear, score=0.938, total=   0.6s\n",
      "[CV] C=100, gamma=0.01, kernel=rbf ...................................\n",
      "[CV] ....... C=100, gamma=0.01, kernel=rbf, score=0.951, total=   0.1s\n",
      "[CV] C=100, gamma=0.01, kernel=rbf ...................................\n",
      "[CV] ....... C=100, gamma=0.01, kernel=rbf, score=0.950, total=   0.1s\n",
      "[CV] C=100, gamma=0.01, kernel=rbf ...................................\n",
      "[CV] ....... C=100, gamma=0.01, kernel=rbf, score=0.941, total=   0.1s\n",
      "[CV] C=100, gamma=0.001, kernel=linear ...............................\n",
      "[CV] ... C=100, gamma=0.001, kernel=linear, score=0.948, total=   0.9s\n",
      "[CV] C=100, gamma=0.001, kernel=linear ...............................\n",
      "[CV] ... C=100, gamma=0.001, kernel=linear, score=0.948, total=   0.8s\n",
      "[CV] C=100, gamma=0.001, kernel=linear ...............................\n",
      "[CV] ... C=100, gamma=0.001, kernel=linear, score=0.938, total=   0.6s\n",
      "[CV] C=100, gamma=0.001, kernel=rbf ..................................\n",
      "[CV] ...... C=100, gamma=0.001, kernel=rbf, score=0.945, total=   0.1s\n",
      "[CV] C=100, gamma=0.001, kernel=rbf ..................................\n",
      "[CV] ...... C=100, gamma=0.001, kernel=rbf, score=0.944, total=   0.1s\n",
      "[CV] C=100, gamma=0.001, kernel=rbf ..................................\n",
      "[CV] ...... C=100, gamma=0.001, kernel=rbf, score=0.935, total=   0.1s\n",
      "[CV] C=100, gamma=0.0001, kernel=linear ..............................\n",
      "[CV] .. C=100, gamma=0.0001, kernel=linear, score=0.948, total=   0.5s\n",
      "[CV] C=100, gamma=0.0001, kernel=linear ..............................\n",
      "[CV] .. C=100, gamma=0.0001, kernel=linear, score=0.948, total=   0.6s\n",
      "[CV] C=100, gamma=0.0001, kernel=linear ..............................\n",
      "[CV] .. C=100, gamma=0.0001, kernel=linear, score=0.938, total=   0.5s\n",
      "[CV] C=100, gamma=0.0001, kernel=rbf .................................\n",
      "[CV] ..... C=100, gamma=0.0001, kernel=rbf, score=0.935, total=   0.1s\n",
      "[CV] C=100, gamma=0.0001, kernel=rbf .................................\n",
      "[CV] ..... C=100, gamma=0.0001, kernel=rbf, score=0.934, total=   0.1s\n",
      "[CV] C=100, gamma=0.0001, kernel=rbf .................................\n",
      "[CV] ..... C=100, gamma=0.0001, kernel=rbf, score=0.925, total=   0.1s\n",
      "[CV] C=1000, gamma=1, kernel=linear ..................................\n"
     ]
    },
    {
     "name": "stdout",
     "output_type": "stream",
     "text": [
      "[CV] ...... C=1000, gamma=1, kernel=linear, score=0.948, total=   3.7s\n",
      "[CV] C=1000, gamma=1, kernel=linear ..................................\n",
      "[CV] ...... C=1000, gamma=1, kernel=linear, score=0.948, total=   4.4s\n",
      "[CV] C=1000, gamma=1, kernel=linear ..................................\n",
      "[CV] ...... C=1000, gamma=1, kernel=linear, score=0.936, total=   3.2s\n",
      "[CV] C=1000, gamma=1, kernel=rbf .....................................\n",
      "[CV] ......... C=1000, gamma=1, kernel=rbf, score=0.920, total=   0.3s\n",
      "[CV] C=1000, gamma=1, kernel=rbf .....................................\n",
      "[CV] ......... C=1000, gamma=1, kernel=rbf, score=0.918, total=   0.3s\n",
      "[CV] C=1000, gamma=1, kernel=rbf .....................................\n",
      "[CV] ......... C=1000, gamma=1, kernel=rbf, score=0.929, total=   0.3s\n",
      "[CV] C=1000, gamma=0.1, kernel=linear ................................\n",
      "[CV] .... C=1000, gamma=0.1, kernel=linear, score=0.948, total=   3.1s\n",
      "[CV] C=1000, gamma=0.1, kernel=linear ................................\n",
      "[CV] .... C=1000, gamma=0.1, kernel=linear, score=0.948, total=   4.0s\n",
      "[CV] C=1000, gamma=0.1, kernel=linear ................................\n",
      "[CV] .... C=1000, gamma=0.1, kernel=linear, score=0.936, total=   3.1s\n",
      "[CV] C=1000, gamma=0.1, kernel=rbf ...................................\n",
      "[CV] ....... C=1000, gamma=0.1, kernel=rbf, score=0.945, total=   0.2s\n",
      "[CV] C=1000, gamma=0.1, kernel=rbf ...................................\n",
      "[CV] ....... C=1000, gamma=0.1, kernel=rbf, score=0.942, total=   0.2s\n",
      "[CV] C=1000, gamma=0.1, kernel=rbf ...................................\n",
      "[CV] ....... C=1000, gamma=0.1, kernel=rbf, score=0.945, total=   0.1s\n",
      "[CV] C=1000, gamma=0.01, kernel=linear ...............................\n",
      "[CV] ... C=1000, gamma=0.01, kernel=linear, score=0.948, total=   3.1s\n",
      "[CV] C=1000, gamma=0.01, kernel=linear ...............................\n",
      "[CV] ... C=1000, gamma=0.01, kernel=linear, score=0.948, total=   3.8s\n",
      "[CV] C=1000, gamma=0.01, kernel=linear ...............................\n",
      "[CV] ... C=1000, gamma=0.01, kernel=linear, score=0.936, total=   3.3s\n",
      "[CV] C=1000, gamma=0.01, kernel=rbf ..................................\n",
      "[CV] ...... C=1000, gamma=0.01, kernel=rbf, score=0.952, total=   0.1s\n",
      "[CV] C=1000, gamma=0.01, kernel=rbf ..................................\n",
      "[CV] ...... C=1000, gamma=0.01, kernel=rbf, score=0.950, total=   0.1s\n",
      "[CV] C=1000, gamma=0.01, kernel=rbf ..................................\n",
      "[CV] ...... C=1000, gamma=0.01, kernel=rbf, score=0.943, total=   0.1s\n",
      "[CV] C=1000, gamma=0.001, kernel=linear ..............................\n",
      "[CV] .. C=1000, gamma=0.001, kernel=linear, score=0.948, total=   3.1s\n",
      "[CV] C=1000, gamma=0.001, kernel=linear ..............................\n",
      "[CV] .. C=1000, gamma=0.001, kernel=linear, score=0.948, total=   4.0s\n",
      "[CV] C=1000, gamma=0.001, kernel=linear ..............................\n",
      "[CV] .. C=1000, gamma=0.001, kernel=linear, score=0.936, total=   3.6s\n",
      "[CV] C=1000, gamma=0.001, kernel=rbf .................................\n",
      "[CV] ..... C=1000, gamma=0.001, kernel=rbf, score=0.950, total=   0.1s\n",
      "[CV] C=1000, gamma=0.001, kernel=rbf .................................\n",
      "[CV] ..... C=1000, gamma=0.001, kernel=rbf, score=0.951, total=   0.2s\n",
      "[CV] C=1000, gamma=0.001, kernel=rbf .................................\n",
      "[CV] ..... C=1000, gamma=0.001, kernel=rbf, score=0.940, total=   0.1s\n",
      "[CV] C=1000, gamma=0.0001, kernel=linear .............................\n",
      "[CV] . C=1000, gamma=0.0001, kernel=linear, score=0.948, total=   3.6s\n",
      "[CV] C=1000, gamma=0.0001, kernel=linear .............................\n",
      "[CV] . C=1000, gamma=0.0001, kernel=linear, score=0.948, total=   4.0s\n",
      "[CV] C=1000, gamma=0.0001, kernel=linear .............................\n",
      "[CV] . C=1000, gamma=0.0001, kernel=linear, score=0.936, total=   3.4s\n",
      "[CV] C=1000, gamma=0.0001, kernel=rbf ................................\n",
      "[CV] .... C=1000, gamma=0.0001, kernel=rbf, score=0.943, total=   0.1s\n",
      "[CV] C=1000, gamma=0.0001, kernel=rbf ................................\n",
      "[CV] .... C=1000, gamma=0.0001, kernel=rbf, score=0.943, total=   0.1s\n",
      "[CV] C=1000, gamma=0.0001, kernel=rbf ................................\n",
      "[CV] .... C=1000, gamma=0.0001, kernel=rbf, score=0.935, total=   0.1s\n"
     ]
    },
    {
     "name": "stderr",
     "output_type": "stream",
     "text": [
      "[Parallel(n_jobs=1)]: Done 150 out of 150 | elapsed:  1.3min finished\n"
     ]
    },
    {
     "data": {
      "text/plain": [
       "GridSearchCV(cv='warn', error_score='raise-deprecating',\n",
       "             estimator=SVC(C=1.0, cache_size=200, class_weight=None, coef0=0.0,\n",
       "                           decision_function_shape='ovr', degree=3,\n",
       "                           gamma='auto_deprecated', kernel='rbf', max_iter=-1,\n",
       "                           probability=False, random_state=None, shrinking=True,\n",
       "                           tol=0.001, verbose=False),\n",
       "             iid='warn', n_jobs=None,\n",
       "             param_grid={'C': [0.1, 1, 10, 100, 1000],\n",
       "                         'gamma': [1, 0.1, 0.01, 0.001, 0.0001],\n",
       "                         'kernel': ('linear', 'rbf')},\n",
       "             pre_dispatch='2*n_jobs', refit=True, return_train_score=False,\n",
       "             scoring=None, verbose=3)"
      ]
     },
     "execution_count": 14,
     "metadata": {},
     "output_type": "execute_result"
    }
   ],
   "source": [
    "parameters = {'kernel':('linear', 'rbf'), 'C': [0.1,1, 10, 100, 1000], 'gamma': [1,0.1,0.01,0.001,0.0001]}\n",
    "from sklearn.model_selection import GridSearchCV\n",
    "clf_grid = GridSearchCV(SVC(),parameters,refit=True,verbose=3)\n",
    "clf_grid.fit(X_train,y_train)"
   ]
  },
  {
   "cell_type": "code",
   "execution_count": 15,
   "metadata": {},
   "outputs": [
    {
     "data": {
      "text/plain": [
       "{'C': 1000, 'gamma': 0.01, 'kernel': 'rbf'}"
      ]
     },
     "execution_count": 15,
     "metadata": {},
     "output_type": "execute_result"
    }
   ],
   "source": [
    "clf_grid.best_params_"
   ]
  },
  {
   "cell_type": "code",
   "execution_count": 16,
   "metadata": {},
   "outputs": [
    {
     "data": {
      "text/plain": [
       "SVC(C=1000, cache_size=200, class_weight=None, coef0=0.0,\n",
       "    decision_function_shape='ovr', degree=3, gamma=0.01, kernel='rbf',\n",
       "    max_iter=-1, probability=False, random_state=None, shrinking=True,\n",
       "    tol=0.001, verbose=False)"
      ]
     },
     "execution_count": 16,
     "metadata": {},
     "output_type": "execute_result"
    }
   ],
   "source": [
    "clf_grid.best_estimator_"
   ]
  },
  {
   "cell_type": "code",
   "execution_count": 17,
   "metadata": {},
   "outputs": [],
   "source": [
    "clf_grid_predictions = clf_grid.predict(X_test)"
   ]
  },
  {
   "cell_type": "code",
   "execution_count": 18,
   "metadata": {},
   "outputs": [
    {
     "name": "stdout",
     "output_type": "stream",
     "text": [
      "[[ 632   34    4]\n",
      " [  41 1033    6]\n",
      " [   9    8  177]]\n",
      "              precision    recall  f1-score   support\n",
      "\n",
      "           1       0.93      0.94      0.93       670\n",
      "           2       0.96      0.96      0.96      1080\n",
      "           3       0.95      0.91      0.93       194\n",
      "\n",
      "    accuracy                           0.95      1944\n",
      "   macro avg       0.94      0.94      0.94      1944\n",
      "weighted avg       0.95      0.95      0.95      1944\n",
      "\n"
     ]
    }
   ],
   "source": [
    "print(confusion_matrix(y_test,clf_grid_predictions))\n",
    "print(classification_report(y_test,clf_grid_predictions))"
   ]
  },
  {
   "cell_type": "markdown",
   "metadata": {},
   "source": [
    "It turns out that we were not able to improve the F1-score of the model by optimizing the hyperparameters. In order to improve our model, we will then consider what other features might yield useful information that could improve the success rate of our classifier."
   ]
  },
  {
   "cell_type": "markdown",
   "metadata": {},
   "source": [
    "## Engineering additional features\n",
    "\n",
    "The time of day at which the features are recorded influences the likelihood of an epoch being classed as wake, NREM sleep or REM sleep (i.e. mice are nocturnal so during the day time they are more likely to be asleep). This being the case, we will extract a new feature, 'hour' which tells us what hour of the day it is.\n",
    "\n",
    "#### Find start time of recording and extract what hour of the day it is for each sample\n",
    "The start time of the recording can be obtained from the array, 'codes', in the dictionary, 'start_time'. The first 6 elements in 'codes' correspond to the 6-digit timestamp, HH:MM:SS. We first convert this 6 element array into a Python datetime. This is the start time of the recording ('t'). We next re-construct the actual time for each epoch in our DataFrame and extract the hour-of-the-day as a separate feature."
   ]
  },
  {
   "cell_type": "code",
   "execution_count": 19,
   "metadata": {},
   "outputs": [],
   "source": [
    "start_time = start_dict['codes'][0][0][0:6:,0]    # Extract 6-element time information from start_dict\n",
    "start_hour = int(str(start_time[0]) + str(start_time[1]))  # Separate hour out\n",
    "start_minute = int(str(start_time[2]) + str(start_time[3]))   # Separate minute out\n",
    "start_second = int(str(start_time[4]) + str(start_time[5]))    # Separate second out\n",
    "t = dt.datetime(1900,1,1,hour = start_hour,minute = start_minute,second = start_second)   # Convert start time to Python datetime object\n",
    "\n",
    "elapsed_time = np.arange(0,(num_epochs),1)*5   # Construct time scale, indicating elapsed time in seconds (starting at 0, incrementing in 5-second intervals)\n",
    "df['timestamp'] = elapsed_time                 # Make column for elapsed_time\n",
    "df['timestamp'] = df['timestamp'].apply(lambda secs: t + dt.timedelta(0,secs)) # Convert elapsed_time into actual clock time by adding to start time 't'\n",
    "df['hour'] = df['timestamp'].apply(lambda x: x.hour)   # extract hour from timestamp"
   ]
  },
  {
   "cell_type": "markdown",
   "metadata": {},
   "source": [
    "The below plot shows the distribution of each class, every hour during the day"
   ]
  },
  {
   "cell_type": "code",
   "execution_count": 20,
   "metadata": {},
   "outputs": [
    {
     "data": {
      "image/png": "[encoded data removed]",
      "text/plain": [
       "<Figure size 432x288 with 1 Axes>"
      ]
     },
     "metadata": {
      "needs_background": "light"
     },
     "output_type": "display_data"
    }
   ],
   "source": [
    "sns.countplot(x = 'hour', hue = 'class', data = df)\n",
    "plt.legend(loc = 'upper right')\n",
    "plt.title('Sleep classification by hour-of-the-day');"
   ]
  },
  {
   "cell_type": "markdown",
   "metadata": {},
   "source": [
    "#### Effect of previous and future epochs on current epoch\n",
    "\n",
    "When manually scoring the EEG and EMG and classifying each epoch to wake, NREM sleep or REM sleep, it is apparent that the classification of each epoch is not enitrely independent and is, to some degree, influenced by the epochs before and after it. For example, if both the epoch immediately prior to, and immediately after, a particular epoch are classed as 'wake', that epoch is also most likely a 'wake' epoch. This is demonstrated in the 'hypnogram' plot below where the class does not change over many epochs."
   ]
  },
  {
   "cell_type": "code",
   "execution_count": 21,
   "metadata": {},
   "outputs": [
    {
     "data": {
      "image/png": "[encoded data removed]",
      "text/plain": [
       "<Figure size 1440x216 with 1 Axes>"
      ]
     },
     "metadata": {
      "needs_background": "light"
     },
     "output_type": "display_data"
    }
   ],
   "source": [
    "fig, ax = plt.subplots(figsize=(20,3))\n",
    "\n",
    "ax.plot(df['class'])\n",
    "ax.set_xlabel('epoch #')\n",
    "ax.set_ylabel('sleep stage class')\n",
    "ax.set_title('hypnogram');\n",
    "ax.set_yticks([1, 2, 3]);"
   ]
  },
  {
   "cell_type": "markdown",
   "metadata": {},
   "source": [
    "This property makes logical sense: after all, wake and sleep occur in consolidated bouts of several minutes long in the mouse.\n",
    "\n",
    "Although the class of the surrounding epochs will be hidden from the model, we can provide the model with information about the prior and following epochs by engineering the existing features.\n",
    "\n",
    "To this end, for each EEG/EMG feature, I will create two new features containing:\n",
    "\n",
    "1) the moving average for the 10 seconds (2 epochs) preceding the start of the epoch\n",
    "\n",
    "2) the moving average for the 10 seconds (2 epochs) following the start of the epoch\n",
    "\n",
    "#### 1. Define a function to calculate the moving average over each feature"
   ]
  },
  {
   "cell_type": "code",
   "execution_count": 22,
   "metadata": {},
   "outputs": [],
   "source": [
    "def pre_post_movavg(input_column):\n",
    "    rolling_avg = input_column.rolling(2).mean()\n",
    "    pre_movavg = np.append(rolling_avg[1:],np.nan)\n",
    "    post_movavg = np.append(rolling_avg[4:],(np.zeros(4)+np.nan))\n",
    "    return pre_movavg, post_movavg"
   ]
  },
  {
   "cell_type": "markdown",
   "metadata": {},
   "source": [
    "#### 2. Apply 'pre_post_mov avg' to each EEG/EMG feature and add to feature dataframe"
   ]
  },
  {
   "cell_type": "code",
   "execution_count": 23,
   "metadata": {},
   "outputs": [],
   "source": [
    "df['pre_emg'],df['post_emg'] = pre_post_movavg(df['emg'])\n",
    "df['pre_td'],df['post_td'] = pre_post_movavg(df['td'])\n",
    "df['pre_theta'],df['post_theta'] = pre_post_movavg(df['theta'])\n",
    "df['pre_delta'],df['post_delta'] = pre_post_movavg(df['delta'])\n",
    "df['pre_alphabeta'],df['post_alphabeta'] = pre_post_movavg(df['alphabeta'])\n",
    "df['pre_low_gamma'],df['post_low_gamma'] = pre_post_movavg(df['low_gamma'])\n",
    "df.dropna(inplace = True)      # remove NaN values introduced into the dataframe from the pre and post moving average "
   ]
  },
  {
   "cell_type": "markdown",
   "metadata": {
    "scrolled": true
   },
   "source": [
    "## Retrain the SVC model with additional features\n",
    "\n",
    "#### 1. Perform Train Test Split on the updated feature dataframe"
   ]
  },
  {
   "cell_type": "code",
   "execution_count": 24,
   "metadata": {},
   "outputs": [],
   "source": [
    "X = df[['emg', 'td', 'theta', 'delta', 'alphabeta', 'low_gamma', \n",
    "       'hour', 'pre_emg', 'post_emg', 'pre_td', 'post_td', 'pre_theta', 'post_theta', 'pre_delta',\n",
    "       'post_delta', 'pre_alphabeta', 'post_alphabeta', 'pre_low_gamma',\n",
    "       'post_low_gamma']]\n",
    "y = df['class']\n",
    "\n",
    "X_train, X_test, y_train, y_test = train_test_split(X, y, test_size=0.3, random_state=42)"
   ]
  },
  {
   "cell_type": "markdown",
   "metadata": {},
   "source": [
    "#### 2. Exploit sklearn Pipeline to perform feature scaling, fitting to an SVC, and using GridSearch to determine hyperparameters in one step"
   ]
  },
  {
   "cell_type": "code",
   "execution_count": 25,
   "metadata": {},
   "outputs": [
    {
     "name": "stderr",
     "output_type": "stream",
     "text": [
      "C:\\ProgramData\\Anaconda3\\lib\\site-packages\\sklearn\\model_selection\\_split.py:1978: FutureWarning: The default value of cv will change from 3 to 5 in version 0.22. Specify it explicitly to silence this warning.\n",
      "  warnings.warn(CV_WARNING, FutureWarning)\n",
      "[Parallel(n_jobs=1)]: Using backend SequentialBackend with 1 concurrent workers.\n",
      "[Parallel(n_jobs=1)]: Done   1 out of   1 | elapsed:    0.0s remaining:    0.0s\n",
      "[Parallel(n_jobs=1)]: Done   2 out of   2 | elapsed:    0.0s remaining:    0.0s\n"
     ]
    },
    {
     "name": "stdout",
     "output_type": "stream",
     "text": [
      "Fitting 3 folds for each of 50 candidates, totalling 150 fits\n",
      "[CV] svc__C=0.1, svc__gamma=1, svc__kernel=linear ....................\n",
      "[CV]  svc__C=0.1, svc__gamma=1, svc__kernel=linear, score=0.950, total=   0.1s\n",
      "[CV] svc__C=0.1, svc__gamma=1, svc__kernel=linear ....................\n",
      "[CV]  svc__C=0.1, svc__gamma=1, svc__kernel=linear, score=0.957, total=   0.1s\n",
      "[CV] svc__C=0.1, svc__gamma=1, svc__kernel=linear ....................\n",
      "[CV]  svc__C=0.1, svc__gamma=1, svc__kernel=linear, score=0.949, total=   0.1s\n",
      "[CV] svc__C=0.1, svc__gamma=1, svc__kernel=rbf .......................\n",
      "[CV]  svc__C=0.1, svc__gamma=1, svc__kernel=rbf, score=0.573, total=   0.7s\n",
      "[CV] svc__C=0.1, svc__gamma=1, svc__kernel=rbf .......................\n",
      "[CV]  svc__C=0.1, svc__gamma=1, svc__kernel=rbf, score=0.570, total=   0.7s\n",
      "[CV] svc__C=0.1, svc__gamma=1, svc__kernel=rbf .......................\n",
      "[CV]  svc__C=0.1, svc__gamma=1, svc__kernel=rbf, score=0.573, total=   0.8s\n",
      "[CV] svc__C=0.1, svc__gamma=0.1, svc__kernel=linear ..................\n",
      "[CV]  svc__C=0.1, svc__gamma=0.1, svc__kernel=linear, score=0.950, total=   0.1s\n",
      "[CV] svc__C=0.1, svc__gamma=0.1, svc__kernel=linear ..................\n",
      "[CV]  svc__C=0.1, svc__gamma=0.1, svc__kernel=linear, score=0.957, total=   0.1s\n",
      "[CV] svc__C=0.1, svc__gamma=0.1, svc__kernel=linear ..................\n",
      "[CV]  svc__C=0.1, svc__gamma=0.1, svc__kernel=linear, score=0.949, total=   0.1s\n",
      "[CV] svc__C=0.1, svc__gamma=0.1, svc__kernel=rbf .....................\n",
      "[CV]  svc__C=0.1, svc__gamma=0.1, svc__kernel=rbf, score=0.932, total=   0.3s\n",
      "[CV] svc__C=0.1, svc__gamma=0.1, svc__kernel=rbf .....................\n",
      "[CV]  svc__C=0.1, svc__gamma=0.1, svc__kernel=rbf, score=0.944, total=   0.2s\n",
      "[CV] svc__C=0.1, svc__gamma=0.1, svc__kernel=rbf .....................\n",
      "[CV]  svc__C=0.1, svc__gamma=0.1, svc__kernel=rbf, score=0.938, total=   0.3s\n",
      "[CV] svc__C=0.1, svc__gamma=0.01, svc__kernel=linear .................\n",
      "[CV]  svc__C=0.1, svc__gamma=0.01, svc__kernel=linear, score=0.950, total=   0.1s\n",
      "[CV] svc__C=0.1, svc__gamma=0.01, svc__kernel=linear .................\n",
      "[CV]  svc__C=0.1, svc__gamma=0.01, svc__kernel=linear, score=0.957, total=   0.1s\n",
      "[CV] svc__C=0.1, svc__gamma=0.01, svc__kernel=linear .................\n",
      "[CV]  svc__C=0.1, svc__gamma=0.01, svc__kernel=linear, score=0.949, total=   0.1s\n",
      "[CV] svc__C=0.1, svc__gamma=0.01, svc__kernel=rbf ....................\n",
      "[CV]  svc__C=0.1, svc__gamma=0.01, svc__kernel=rbf, score=0.930, total=   0.2s\n",
      "[CV] svc__C=0.1, svc__gamma=0.01, svc__kernel=rbf ....................\n",
      "[CV]  svc__C=0.1, svc__gamma=0.01, svc__kernel=rbf, score=0.946, total=   0.2s\n",
      "[CV] svc__C=0.1, svc__gamma=0.01, svc__kernel=rbf ....................\n",
      "[CV]  svc__C=0.1, svc__gamma=0.01, svc__kernel=rbf, score=0.932, total=   0.3s\n",
      "[CV] svc__C=0.1, svc__gamma=0.001, svc__kernel=linear ................\n",
      "[CV]  svc__C=0.1, svc__gamma=0.001, svc__kernel=linear, score=0.950, total=   0.1s\n",
      "[CV] svc__C=0.1, svc__gamma=0.001, svc__kernel=linear ................\n",
      "[CV]  svc__C=0.1, svc__gamma=0.001, svc__kernel=linear, score=0.957, total=   0.1s\n",
      "[CV] svc__C=0.1, svc__gamma=0.001, svc__kernel=linear ................\n",
      "[CV]  svc__C=0.1, svc__gamma=0.001, svc__kernel=linear, score=0.949, total=   0.1s\n",
      "[CV] svc__C=0.1, svc__gamma=0.001, svc__kernel=rbf ...................\n",
      "[CV]  svc__C=0.1, svc__gamma=0.001, svc__kernel=rbf, score=0.896, total=   0.7s\n",
      "[CV] svc__C=0.1, svc__gamma=0.001, svc__kernel=rbf ...................\n",
      "[CV]  svc__C=0.1, svc__gamma=0.001, svc__kernel=rbf, score=0.901, total=   0.4s\n",
      "[CV] svc__C=0.1, svc__gamma=0.001, svc__kernel=rbf ...................\n",
      "[CV]  svc__C=0.1, svc__gamma=0.001, svc__kernel=rbf, score=0.881, total=   0.4s\n",
      "[CV] svc__C=0.1, svc__gamma=0.0001, svc__kernel=linear ...............\n",
      "[CV]  svc__C=0.1, svc__gamma=0.0001, svc__kernel=linear, score=0.950, total=   0.1s\n",
      "[CV] svc__C=0.1, svc__gamma=0.0001, svc__kernel=linear ...............\n",
      "[CV]  svc__C=0.1, svc__gamma=0.0001, svc__kernel=linear, score=0.957, total=   0.1s\n",
      "[CV] svc__C=0.1, svc__gamma=0.0001, svc__kernel=linear ...............\n",
      "[CV]  svc__C=0.1, svc__gamma=0.0001, svc__kernel=linear, score=0.949, total=   0.1s\n",
      "[CV] svc__C=0.1, svc__gamma=0.0001, svc__kernel=rbf ..................\n",
      "[CV]  svc__C=0.1, svc__gamma=0.0001, svc__kernel=rbf, score=0.565, total=   0.4s\n",
      "[CV] svc__C=0.1, svc__gamma=0.0001, svc__kernel=rbf ..................\n",
      "[CV]  svc__C=0.1, svc__gamma=0.0001, svc__kernel=rbf, score=0.565, total=   0.6s\n",
      "[CV] svc__C=0.1, svc__gamma=0.0001, svc__kernel=rbf ..................\n",
      "[CV]  svc__C=0.1, svc__gamma=0.0001, svc__kernel=rbf, score=0.565, total=   0.5s\n",
      "[CV] svc__C=1, svc__gamma=1, svc__kernel=linear ......................\n",
      "[CV]  svc__C=1, svc__gamma=1, svc__kernel=linear, score=0.952, total=   0.1s\n",
      "[CV] svc__C=1, svc__gamma=1, svc__kernel=linear ......................\n",
      "[CV]  svc__C=1, svc__gamma=1, svc__kernel=linear, score=0.960, total=   0.1s\n",
      "[CV] svc__C=1, svc__gamma=1, svc__kernel=linear ......................\n",
      "[CV]  svc__C=1, svc__gamma=1, svc__kernel=linear, score=0.950, total=   0.1s\n",
      "[CV] svc__C=1, svc__gamma=1, svc__kernel=rbf .........................\n",
      "[CV]  svc__C=1, svc__gamma=1, svc__kernel=rbf, score=0.819, total=   1.0s\n",
      "[CV] svc__C=1, svc__gamma=1, svc__kernel=rbf .........................\n",
      "[CV]  svc__C=1, svc__gamma=1, svc__kernel=rbf, score=0.803, total=   1.0s\n",
      "[CV] svc__C=1, svc__gamma=1, svc__kernel=rbf .........................\n",
      "[CV]  svc__C=1, svc__gamma=1, svc__kernel=rbf, score=0.805, total=   1.2s\n",
      "[CV] svc__C=1, svc__gamma=0.1, svc__kernel=linear ....................\n",
      "[CV]  svc__C=1, svc__gamma=0.1, svc__kernel=linear, score=0.952, total=   0.1s\n",
      "[CV] svc__C=1, svc__gamma=0.1, svc__kernel=linear ....................\n",
      "[CV]  svc__C=1, svc__gamma=0.1, svc__kernel=linear, score=0.960, total=   0.1s\n",
      "[CV] svc__C=1, svc__gamma=0.1, svc__kernel=linear ....................\n",
      "[CV]  svc__C=1, svc__gamma=0.1, svc__kernel=linear, score=0.950, total=   0.1s\n",
      "[CV] svc__C=1, svc__gamma=0.1, svc__kernel=rbf .......................\n",
      "[CV]  svc__C=1, svc__gamma=0.1, svc__kernel=rbf, score=0.944, total=   0.1s\n",
      "[CV] svc__C=1, svc__gamma=0.1, svc__kernel=rbf .......................\n",
      "[CV]  svc__C=1, svc__gamma=0.1, svc__kernel=rbf, score=0.961, total=   0.2s\n",
      "[CV] svc__C=1, svc__gamma=0.1, svc__kernel=rbf .......................\n",
      "[CV]  svc__C=1, svc__gamma=0.1, svc__kernel=rbf, score=0.951, total=   0.2s\n",
      "[CV] svc__C=1, svc__gamma=0.01, svc__kernel=linear ...................\n",
      "[CV]  svc__C=1, svc__gamma=0.01, svc__kernel=linear, score=0.952, total=   0.1s\n",
      "[CV] svc__C=1, svc__gamma=0.01, svc__kernel=linear ...................\n",
      "[CV]  svc__C=1, svc__gamma=0.01, svc__kernel=linear, score=0.960, total=   0.1s\n",
      "[CV] svc__C=1, svc__gamma=0.01, svc__kernel=linear ...................\n",
      "[CV]  svc__C=1, svc__gamma=0.01, svc__kernel=linear, score=0.950, total=   0.1s\n",
      "[CV] svc__C=1, svc__gamma=0.01, svc__kernel=rbf ......................\n",
      "[CV]  svc__C=1, svc__gamma=0.01, svc__kernel=rbf, score=0.941, total=   0.1s\n",
      "[CV] svc__C=1, svc__gamma=0.01, svc__kernel=rbf ......................\n",
      "[CV]  svc__C=1, svc__gamma=0.01, svc__kernel=rbf, score=0.954, total=   0.1s\n",
      "[CV] svc__C=1, svc__gamma=0.01, svc__kernel=rbf ......................\n",
      "[CV]  svc__C=1, svc__gamma=0.01, svc__kernel=rbf, score=0.946, total=   0.1s\n",
      "[CV] svc__C=1, svc__gamma=0.001, svc__kernel=linear ..................\n",
      "[CV]  svc__C=1, svc__gamma=0.001, svc__kernel=linear, score=0.952, total=   0.1s\n",
      "[CV] svc__C=1, svc__gamma=0.001, svc__kernel=linear ..................\n",
      "[CV]  svc__C=1, svc__gamma=0.001, svc__kernel=linear, score=0.960, total=   0.1s\n",
      "[CV] svc__C=1, svc__gamma=0.001, svc__kernel=linear ..................\n",
      "[CV]  svc__C=1, svc__gamma=0.001, svc__kernel=linear, score=0.950, total=   0.1s\n",
      "[CV] svc__C=1, svc__gamma=0.001, svc__kernel=rbf .....................\n",
      "[CV]  svc__C=1, svc__gamma=0.001, svc__kernel=rbf, score=0.934, total=   0.2s\n",
      "[CV] svc__C=1, svc__gamma=0.001, svc__kernel=rbf .....................\n",
      "[CV]  svc__C=1, svc__gamma=0.001, svc__kernel=rbf, score=0.948, total=   0.2s\n",
      "[CV] svc__C=1, svc__gamma=0.001, svc__kernel=rbf .....................\n",
      "[CV]  svc__C=1, svc__gamma=0.001, svc__kernel=rbf, score=0.936, total=   0.2s\n",
      "[CV] svc__C=1, svc__gamma=0.0001, svc__kernel=linear .................\n",
      "[CV]  svc__C=1, svc__gamma=0.0001, svc__kernel=linear, score=0.952, total=   0.1s\n",
      "[CV] svc__C=1, svc__gamma=0.0001, svc__kernel=linear .................\n",
      "[CV]  svc__C=1, svc__gamma=0.0001, svc__kernel=linear, score=0.960, total=   0.1s\n",
      "[CV] svc__C=1, svc__gamma=0.0001, svc__kernel=linear .................\n"
     ]
    },
    {
     "name": "stdout",
     "output_type": "stream",
     "text": [
      "[CV]  svc__C=1, svc__gamma=0.0001, svc__kernel=linear, score=0.950, total=   0.1s\n",
      "[CV] svc__C=1, svc__gamma=0.0001, svc__kernel=rbf ....................\n",
      "[CV]  svc__C=1, svc__gamma=0.0001, svc__kernel=rbf, score=0.896, total=   0.5s\n",
      "[CV] svc__C=1, svc__gamma=0.0001, svc__kernel=rbf ....................\n",
      "[CV]  svc__C=1, svc__gamma=0.0001, svc__kernel=rbf, score=0.904, total=   0.4s\n",
      "[CV] svc__C=1, svc__gamma=0.0001, svc__kernel=rbf ....................\n",
      "[CV]  svc__C=1, svc__gamma=0.0001, svc__kernel=rbf, score=0.882, total=   0.5s\n",
      "[CV] svc__C=10, svc__gamma=1, svc__kernel=linear .....................\n",
      "[CV]  svc__C=10, svc__gamma=1, svc__kernel=linear, score=0.952, total=   0.2s\n",
      "[CV] svc__C=10, svc__gamma=1, svc__kernel=linear .....................\n",
      "[CV]  svc__C=10, svc__gamma=1, svc__kernel=linear, score=0.959, total=   0.5s\n",
      "[CV] svc__C=10, svc__gamma=1, svc__kernel=linear .....................\n",
      "[CV]  svc__C=10, svc__gamma=1, svc__kernel=linear, score=0.947, total=   0.3s\n",
      "[CV] svc__C=10, svc__gamma=1, svc__kernel=rbf ........................\n",
      "[CV]  svc__C=10, svc__gamma=1, svc__kernel=rbf, score=0.828, total=   0.9s\n",
      "[CV] svc__C=10, svc__gamma=1, svc__kernel=rbf ........................\n",
      "[CV]  svc__C=10, svc__gamma=1, svc__kernel=rbf, score=0.811, total=   0.8s\n",
      "[CV] svc__C=10, svc__gamma=1, svc__kernel=rbf ........................\n",
      "[CV]  svc__C=10, svc__gamma=1, svc__kernel=rbf, score=0.813, total=   0.8s\n",
      "[CV] svc__C=10, svc__gamma=0.1, svc__kernel=linear ...................\n",
      "[CV]  svc__C=10, svc__gamma=0.1, svc__kernel=linear, score=0.952, total=   0.2s\n",
      "[CV] svc__C=10, svc__gamma=0.1, svc__kernel=linear ...................\n",
      "[CV]  svc__C=10, svc__gamma=0.1, svc__kernel=linear, score=0.959, total=   0.2s\n",
      "[CV] svc__C=10, svc__gamma=0.1, svc__kernel=linear ...................\n",
      "[CV]  svc__C=10, svc__gamma=0.1, svc__kernel=linear, score=0.947, total=   0.2s\n",
      "[CV] svc__C=10, svc__gamma=0.1, svc__kernel=rbf ......................\n",
      "[CV]  svc__C=10, svc__gamma=0.1, svc__kernel=rbf, score=0.950, total=   0.1s\n",
      "[CV] svc__C=10, svc__gamma=0.1, svc__kernel=rbf ......................\n",
      "[CV]  svc__C=10, svc__gamma=0.1, svc__kernel=rbf, score=0.962, total=   0.1s\n",
      "[CV] svc__C=10, svc__gamma=0.1, svc__kernel=rbf ......................\n",
      "[CV]  svc__C=10, svc__gamma=0.1, svc__kernel=rbf, score=0.951, total=   0.1s\n",
      "[CV] svc__C=10, svc__gamma=0.01, svc__kernel=linear ..................\n",
      "[CV]  svc__C=10, svc__gamma=0.01, svc__kernel=linear, score=0.952, total=   0.2s\n",
      "[CV] svc__C=10, svc__gamma=0.01, svc__kernel=linear ..................\n",
      "[CV]  svc__C=10, svc__gamma=0.01, svc__kernel=linear, score=0.959, total=   0.3s\n",
      "[CV] svc__C=10, svc__gamma=0.01, svc__kernel=linear ..................\n",
      "[CV]  svc__C=10, svc__gamma=0.01, svc__kernel=linear, score=0.947, total=   0.2s\n",
      "[CV] svc__C=10, svc__gamma=0.01, svc__kernel=rbf .....................\n",
      "[CV]  svc__C=10, svc__gamma=0.01, svc__kernel=rbf, score=0.950, total=   0.1s\n",
      "[CV] svc__C=10, svc__gamma=0.01, svc__kernel=rbf .....................\n",
      "[CV]  svc__C=10, svc__gamma=0.01, svc__kernel=rbf, score=0.963, total=   0.1s\n",
      "[CV] svc__C=10, svc__gamma=0.01, svc__kernel=rbf .....................\n",
      "[CV]  svc__C=10, svc__gamma=0.01, svc__kernel=rbf, score=0.954, total=   0.1s\n",
      "[CV] svc__C=10, svc__gamma=0.001, svc__kernel=linear .................\n",
      "[CV]  svc__C=10, svc__gamma=0.001, svc__kernel=linear, score=0.952, total=   0.2s\n",
      "[CV] svc__C=10, svc__gamma=0.001, svc__kernel=linear .................\n",
      "[CV]  svc__C=10, svc__gamma=0.001, svc__kernel=linear, score=0.959, total=   0.5s\n",
      "[CV] svc__C=10, svc__gamma=0.001, svc__kernel=linear .................\n",
      "[CV]  svc__C=10, svc__gamma=0.001, svc__kernel=linear, score=0.947, total=   0.3s\n",
      "[CV] svc__C=10, svc__gamma=0.001, svc__kernel=rbf ....................\n",
      "[CV]  svc__C=10, svc__gamma=0.001, svc__kernel=rbf, score=0.944, total=   0.1s\n",
      "[CV] svc__C=10, svc__gamma=0.001, svc__kernel=rbf ....................\n",
      "[CV]  svc__C=10, svc__gamma=0.001, svc__kernel=rbf, score=0.955, total=   0.1s\n",
      "[CV] svc__C=10, svc__gamma=0.001, svc__kernel=rbf ....................\n",
      "[CV]  svc__C=10, svc__gamma=0.001, svc__kernel=rbf, score=0.946, total=   0.1s\n",
      "[CV] svc__C=10, svc__gamma=0.0001, svc__kernel=linear ................\n",
      "[CV]  svc__C=10, svc__gamma=0.0001, svc__kernel=linear, score=0.952, total=   0.2s\n",
      "[CV] svc__C=10, svc__gamma=0.0001, svc__kernel=linear ................\n",
      "[CV]  svc__C=10, svc__gamma=0.0001, svc__kernel=linear, score=0.959, total=   0.2s\n",
      "[CV] svc__C=10, svc__gamma=0.0001, svc__kernel=linear ................\n",
      "[CV]  svc__C=10, svc__gamma=0.0001, svc__kernel=linear, score=0.947, total=   0.2s\n",
      "[CV] svc__C=10, svc__gamma=0.0001, svc__kernel=rbf ...................\n",
      "[CV]  svc__C=10, svc__gamma=0.0001, svc__kernel=rbf, score=0.934, total=   0.3s\n",
      "[CV] svc__C=10, svc__gamma=0.0001, svc__kernel=rbf ...................\n",
      "[CV]  svc__C=10, svc__gamma=0.0001, svc__kernel=rbf, score=0.948, total=   0.2s\n",
      "[CV] svc__C=10, svc__gamma=0.0001, svc__kernel=rbf ...................\n",
      "[CV]  svc__C=10, svc__gamma=0.0001, svc__kernel=rbf, score=0.934, total=   0.2s\n",
      "[CV] svc__C=100, svc__gamma=1, svc__kernel=linear ....................\n",
      "[CV]  svc__C=100, svc__gamma=1, svc__kernel=linear, score=0.951, total=   1.2s\n",
      "[CV] svc__C=100, svc__gamma=1, svc__kernel=linear ....................\n",
      "[CV]  svc__C=100, svc__gamma=1, svc__kernel=linear, score=0.957, total=   1.5s\n",
      "[CV] svc__C=100, svc__gamma=1, svc__kernel=linear ....................\n",
      "[CV]  svc__C=100, svc__gamma=1, svc__kernel=linear, score=0.946, total=   1.5s\n",
      "[CV] svc__C=100, svc__gamma=1, svc__kernel=rbf .......................\n",
      "[CV]  svc__C=100, svc__gamma=1, svc__kernel=rbf, score=0.828, total=   0.8s\n",
      "[CV] svc__C=100, svc__gamma=1, svc__kernel=rbf .......................\n",
      "[CV]  svc__C=100, svc__gamma=1, svc__kernel=rbf, score=0.811, total=   0.7s\n",
      "[CV] svc__C=100, svc__gamma=1, svc__kernel=rbf .......................\n",
      "[CV]  svc__C=100, svc__gamma=1, svc__kernel=rbf, score=0.813, total=   0.8s\n",
      "[CV] svc__C=100, svc__gamma=0.1, svc__kernel=linear ..................\n",
      "[CV]  svc__C=100, svc__gamma=0.1, svc__kernel=linear, score=0.951, total=   1.1s\n",
      "[CV] svc__C=100, svc__gamma=0.1, svc__kernel=linear ..................\n",
      "[CV]  svc__C=100, svc__gamma=0.1, svc__kernel=linear, score=0.957, total=   1.8s\n",
      "[CV] svc__C=100, svc__gamma=0.1, svc__kernel=linear ..................\n",
      "[CV]  svc__C=100, svc__gamma=0.1, svc__kernel=linear, score=0.946, total=   1.2s\n",
      "[CV] svc__C=100, svc__gamma=0.1, svc__kernel=rbf .....................\n",
      "[CV]  svc__C=100, svc__gamma=0.1, svc__kernel=rbf, score=0.940, total=   0.2s\n",
      "[CV] svc__C=100, svc__gamma=0.1, svc__kernel=rbf .....................\n",
      "[CV]  svc__C=100, svc__gamma=0.1, svc__kernel=rbf, score=0.949, total=   0.2s\n",
      "[CV] svc__C=100, svc__gamma=0.1, svc__kernel=rbf .....................\n",
      "[CV]  svc__C=100, svc__gamma=0.1, svc__kernel=rbf, score=0.942, total=   0.1s\n",
      "[CV] svc__C=100, svc__gamma=0.01, svc__kernel=linear .................\n",
      "[CV]  svc__C=100, svc__gamma=0.01, svc__kernel=linear, score=0.951, total=   1.1s\n",
      "[CV] svc__C=100, svc__gamma=0.01, svc__kernel=linear .................\n",
      "[CV]  svc__C=100, svc__gamma=0.01, svc__kernel=linear, score=0.957, total=   1.6s\n",
      "[CV] svc__C=100, svc__gamma=0.01, svc__kernel=linear .................\n",
      "[CV]  svc__C=100, svc__gamma=0.01, svc__kernel=linear, score=0.946, total=   1.5s\n",
      "[CV] svc__C=100, svc__gamma=0.01, svc__kernel=rbf ....................\n",
      "[CV]  svc__C=100, svc__gamma=0.01, svc__kernel=rbf, score=0.952, total=   0.1s\n",
      "[CV] svc__C=100, svc__gamma=0.01, svc__kernel=rbf ....................\n",
      "[CV]  svc__C=100, svc__gamma=0.01, svc__kernel=rbf, score=0.962, total=   0.1s\n",
      "[CV] svc__C=100, svc__gamma=0.01, svc__kernel=rbf ....................\n",
      "[CV]  svc__C=100, svc__gamma=0.01, svc__kernel=rbf, score=0.950, total=   0.1s\n",
      "[CV] svc__C=100, svc__gamma=0.001, svc__kernel=linear ................\n",
      "[CV]  svc__C=100, svc__gamma=0.001, svc__kernel=linear, score=0.951, total=   1.2s\n",
      "[CV] svc__C=100, svc__gamma=0.001, svc__kernel=linear ................\n",
      "[CV]  svc__C=100, svc__gamma=0.001, svc__kernel=linear, score=0.957, total=   1.5s\n",
      "[CV] svc__C=100, svc__gamma=0.001, svc__kernel=linear ................\n",
      "[CV]  svc__C=100, svc__gamma=0.001, svc__kernel=linear, score=0.946, total=   1.1s\n",
      "[CV] svc__C=100, svc__gamma=0.001, svc__kernel=rbf ...................\n",
      "[CV]  svc__C=100, svc__gamma=0.001, svc__kernel=rbf, score=0.952, total=   0.2s\n",
      "[CV] svc__C=100, svc__gamma=0.001, svc__kernel=rbf ...................\n"
     ]
    },
    {
     "name": "stdout",
     "output_type": "stream",
     "text": [
      "[CV]  svc__C=100, svc__gamma=0.001, svc__kernel=rbf, score=0.960, total=   0.2s\n",
      "[CV] svc__C=100, svc__gamma=0.001, svc__kernel=rbf ...................\n",
      "[CV]  svc__C=100, svc__gamma=0.001, svc__kernel=rbf, score=0.951, total=   0.1s\n",
      "[CV] svc__C=100, svc__gamma=0.0001, svc__kernel=linear ...............\n",
      "[CV]  svc__C=100, svc__gamma=0.0001, svc__kernel=linear, score=0.951, total=   1.1s\n",
      "[CV] svc__C=100, svc__gamma=0.0001, svc__kernel=linear ...............\n",
      "[CV]  svc__C=100, svc__gamma=0.0001, svc__kernel=linear, score=0.957, total=   1.4s\n",
      "[CV] svc__C=100, svc__gamma=0.0001, svc__kernel=linear ...............\n",
      "[CV]  svc__C=100, svc__gamma=0.0001, svc__kernel=linear, score=0.946, total=   1.1s\n",
      "[CV] svc__C=100, svc__gamma=0.0001, svc__kernel=rbf ..................\n",
      "[CV]  svc__C=100, svc__gamma=0.0001, svc__kernel=rbf, score=0.940, total=   0.1s\n",
      "[CV] svc__C=100, svc__gamma=0.0001, svc__kernel=rbf ..................\n",
      "[CV]  svc__C=100, svc__gamma=0.0001, svc__kernel=rbf, score=0.952, total=   0.1s\n",
      "[CV] svc__C=100, svc__gamma=0.0001, svc__kernel=rbf ..................\n",
      "[CV]  svc__C=100, svc__gamma=0.0001, svc__kernel=rbf, score=0.944, total=   0.1s\n",
      "[CV] svc__C=1000, svc__gamma=1, svc__kernel=linear ...................\n",
      "[CV]  svc__C=1000, svc__gamma=1, svc__kernel=linear, score=0.951, total=   9.2s\n",
      "[CV] svc__C=1000, svc__gamma=1, svc__kernel=linear ...................\n",
      "[CV]  svc__C=1000, svc__gamma=1, svc__kernel=linear, score=0.960, total=  13.9s\n",
      "[CV] svc__C=1000, svc__gamma=1, svc__kernel=linear ...................\n",
      "[CV]  svc__C=1000, svc__gamma=1, svc__kernel=linear, score=0.946, total=  11.7s\n",
      "[CV] svc__C=1000, svc__gamma=1, svc__kernel=rbf ......................\n",
      "[CV]  svc__C=1000, svc__gamma=1, svc__kernel=rbf, score=0.828, total=   0.7s\n",
      "[CV] svc__C=1000, svc__gamma=1, svc__kernel=rbf ......................\n",
      "[CV]  svc__C=1000, svc__gamma=1, svc__kernel=rbf, score=0.811, total=   0.7s\n",
      "[CV] svc__C=1000, svc__gamma=1, svc__kernel=rbf ......................\n",
      "[CV]  svc__C=1000, svc__gamma=1, svc__kernel=rbf, score=0.813, total=   0.7s\n",
      "[CV] svc__C=1000, svc__gamma=0.1, svc__kernel=linear .................\n",
      "[CV]  svc__C=1000, svc__gamma=0.1, svc__kernel=linear, score=0.951, total=   9.3s\n",
      "[CV] svc__C=1000, svc__gamma=0.1, svc__kernel=linear .................\n",
      "[CV]  svc__C=1000, svc__gamma=0.1, svc__kernel=linear, score=0.960, total=  13.7s\n",
      "[CV] svc__C=1000, svc__gamma=0.1, svc__kernel=linear .................\n",
      "[CV]  svc__C=1000, svc__gamma=0.1, svc__kernel=linear, score=0.946, total=  12.1s\n",
      "[CV] svc__C=1000, svc__gamma=0.1, svc__kernel=rbf ....................\n",
      "[CV]  svc__C=1000, svc__gamma=0.1, svc__kernel=rbf, score=0.941, total=   0.1s\n",
      "[CV] svc__C=1000, svc__gamma=0.1, svc__kernel=rbf ....................\n",
      "[CV]  svc__C=1000, svc__gamma=0.1, svc__kernel=rbf, score=0.940, total=   0.2s\n",
      "[CV] svc__C=1000, svc__gamma=0.1, svc__kernel=rbf ....................\n",
      "[CV]  svc__C=1000, svc__gamma=0.1, svc__kernel=rbf, score=0.934, total=   0.1s\n",
      "[CV] svc__C=1000, svc__gamma=0.01, svc__kernel=linear ................\n",
      "[CV]  svc__C=1000, svc__gamma=0.01, svc__kernel=linear, score=0.951, total=   8.7s\n",
      "[CV] svc__C=1000, svc__gamma=0.01, svc__kernel=linear ................\n",
      "[CV]  svc__C=1000, svc__gamma=0.01, svc__kernel=linear, score=0.960, total=  13.9s\n",
      "[CV] svc__C=1000, svc__gamma=0.01, svc__kernel=linear ................\n",
      "[CV]  svc__C=1000, svc__gamma=0.01, svc__kernel=linear, score=0.946, total=  13.8s\n",
      "[CV] svc__C=1000, svc__gamma=0.01, svc__kernel=rbf ...................\n",
      "[CV]  svc__C=1000, svc__gamma=0.01, svc__kernel=rbf, score=0.949, total=   0.2s\n",
      "[CV] svc__C=1000, svc__gamma=0.01, svc__kernel=rbf ...................\n",
      "[CV]  svc__C=1000, svc__gamma=0.01, svc__kernel=rbf, score=0.952, total=   0.2s\n",
      "[CV] svc__C=1000, svc__gamma=0.01, svc__kernel=rbf ...................\n",
      "[CV]  svc__C=1000, svc__gamma=0.01, svc__kernel=rbf, score=0.948, total=   0.3s\n",
      "[CV] svc__C=1000, svc__gamma=0.001, svc__kernel=linear ...............\n",
      "[CV]  svc__C=1000, svc__gamma=0.001, svc__kernel=linear, score=0.951, total=   9.4s\n",
      "[CV] svc__C=1000, svc__gamma=0.001, svc__kernel=linear ...............\n",
      "[CV]  svc__C=1000, svc__gamma=0.001, svc__kernel=linear, score=0.960, total=  14.5s\n",
      "[CV] svc__C=1000, svc__gamma=0.001, svc__kernel=linear ...............\n",
      "[CV]  svc__C=1000, svc__gamma=0.001, svc__kernel=linear, score=0.946, total=  12.4s\n",
      "[CV] svc__C=1000, svc__gamma=0.001, svc__kernel=rbf ..................\n",
      "[CV]  svc__C=1000, svc__gamma=0.001, svc__kernel=rbf, score=0.951, total=   0.1s\n",
      "[CV] svc__C=1000, svc__gamma=0.001, svc__kernel=rbf ..................\n",
      "[CV]  svc__C=1000, svc__gamma=0.001, svc__kernel=rbf, score=0.961, total=   0.1s\n",
      "[CV] svc__C=1000, svc__gamma=0.001, svc__kernel=rbf ..................\n",
      "[CV]  svc__C=1000, svc__gamma=0.001, svc__kernel=rbf, score=0.950, total=   0.1s\n",
      "[CV] svc__C=1000, svc__gamma=0.0001, svc__kernel=linear ..............\n",
      "[CV]  svc__C=1000, svc__gamma=0.0001, svc__kernel=linear, score=0.951, total=   9.9s\n",
      "[CV] svc__C=1000, svc__gamma=0.0001, svc__kernel=linear ..............\n",
      "[CV]  svc__C=1000, svc__gamma=0.0001, svc__kernel=linear, score=0.960, total=  14.0s\n",
      "[CV] svc__C=1000, svc__gamma=0.0001, svc__kernel=linear ..............\n",
      "[CV]  svc__C=1000, svc__gamma=0.0001, svc__kernel=linear, score=0.946, total=  11.8s\n",
      "[CV] svc__C=1000, svc__gamma=0.0001, svc__kernel=rbf .................\n",
      "[CV]  svc__C=1000, svc__gamma=0.0001, svc__kernel=rbf, score=0.951, total=   0.1s\n",
      "[CV] svc__C=1000, svc__gamma=0.0001, svc__kernel=rbf .................\n",
      "[CV]  svc__C=1000, svc__gamma=0.0001, svc__kernel=rbf, score=0.958, total=   0.1s\n",
      "[CV] svc__C=1000, svc__gamma=0.0001, svc__kernel=rbf .................\n",
      "[CV]  svc__C=1000, svc__gamma=0.0001, svc__kernel=rbf, score=0.951, total=   0.1s\n"
     ]
    },
    {
     "name": "stderr",
     "output_type": "stream",
     "text": [
      "[Parallel(n_jobs=1)]: Done 150 out of 150 | elapsed:  3.8min finished\n"
     ]
    },
    {
     "data": {
      "text/plain": [
       "GridSearchCV(cv='warn', error_score='raise-deprecating',\n",
       "             estimator=Pipeline(memory=None,\n",
       "                                steps=[('standardscaler',\n",
       "                                        StandardScaler(copy=True,\n",
       "                                                       with_mean=True,\n",
       "                                                       with_std=True)),\n",
       "                                       ('svc',\n",
       "                                        SVC(C=1.0, cache_size=200,\n",
       "                                            class_weight=None, coef0=0.0,\n",
       "                                            decision_function_shape='ovr',\n",
       "                                            degree=3, gamma='auto_deprecated',\n",
       "                                            kernel='rbf', max_iter=-1,\n",
       "                                            probability=False,\n",
       "                                            random_state=None, shrinking=True,\n",
       "                                            tol=0.001, verbose=False))],\n",
       "                                verbose=False),\n",
       "             iid='warn', n_jobs=None,\n",
       "             param_grid={'svc__C': [0.1, 1, 10, 100, 1000],\n",
       "                         'svc__gamma': [1, 0.1, 0.01, 0.001, 0.0001],\n",
       "                         'svc__kernel': ('linear', 'rbf')},\n",
       "             pre_dispatch='2*n_jobs', refit=True, return_train_score=False,\n",
       "             scoring=None, verbose=3)"
      ]
     },
     "execution_count": 25,
     "metadata": {},
     "output_type": "execute_result"
    }
   ],
   "source": [
    "from sklearn.pipeline import make_pipeline\n",
    "pipe = make_pipeline(StandardScaler(),SVC())\n",
    "param_grid = {'svc__kernel':('linear', 'rbf'), 'svc__C': [0.1,1, 10, 100, 1000], 'svc__gamma': [1,0.1,0.01,0.001,0.0001]}\n",
    "gs = GridSearchCV(pipe, param_grid,verbose=3)\n",
    "gs.fit(X_train, y_train)"
   ]
  },
  {
   "cell_type": "code",
   "execution_count": 26,
   "metadata": {},
   "outputs": [
    {
     "data": {
      "text/plain": [
       "Pipeline(memory=None,\n",
       "         steps=[('standardscaler',\n",
       "                 StandardScaler(copy=True, with_mean=True, with_std=True)),\n",
       "                ('svc',\n",
       "                 SVC(C=10, cache_size=200, class_weight=None, coef0=0.0,\n",
       "                     decision_function_shape='ovr', degree=3, gamma=0.01,\n",
       "                     kernel='rbf', max_iter=-1, probability=False,\n",
       "                     random_state=None, shrinking=True, tol=0.001,\n",
       "                     verbose=False))],\n",
       "         verbose=False)"
      ]
     },
     "execution_count": 26,
     "metadata": {},
     "output_type": "execute_result"
    }
   ],
   "source": [
    "gs.best_estimator_"
   ]
  },
  {
   "cell_type": "code",
   "execution_count": 27,
   "metadata": {},
   "outputs": [],
   "source": [
    "pipe_predict = gs.predict(X_test)"
   ]
  },
  {
   "cell_type": "code",
   "execution_count": 28,
   "metadata": {
    "scrolled": true
   },
   "outputs": [
    {
     "name": "stdout",
     "output_type": "stream",
     "text": [
      "[[ 621   28    0]\n",
      " [  37 1057    7]\n",
      " [   7    5  181]]\n",
      "              precision    recall  f1-score   support\n",
      "\n",
      "           1       0.93      0.96      0.95       649\n",
      "           2       0.97      0.96      0.96      1101\n",
      "           3       0.96      0.94      0.95       193\n",
      "\n",
      "    accuracy                           0.96      1943\n",
      "   macro avg       0.96      0.95      0.95      1943\n",
      "weighted avg       0.96      0.96      0.96      1943\n",
      "\n"
     ]
    }
   ],
   "source": [
    "print(confusion_matrix(y_test,pipe_predict))\n",
    "print(classification_report(y_test,pipe_predict))"
   ]
  },
  {
   "cell_type": "markdown",
   "metadata": {},
   "source": [
    "The F1 scores improved by a couple of percentage points for both wake and REM sleep. Additionally, we can see from confusion matrix that wake (class 1) was never misclassified as REM sleep (class 3). On the other hand, NREM sleep and wake were sometimes misclassified as each other and REM sleep was also misclassified as either wake or NREM sleep.\n",
    "\n",
    "Ways to improve the success of the classifier:\n",
    "\n",
    "- Train the classifier on **more data**, specifically including data from around the whole 24 hour clock (only dat from between 10am and 4pm were included here)\n",
    "\n",
    "- More intensive **engineering of existing features**. For example, 'hour of day' could be replaced by time periods of lower time resolutions (e.g. morning, afternoon, evening, night etc). Alternatively, it could make sense to combine EEG and EMG data into novel features. i.e. engineer a new feature that calculates the TD:EMG ratio. High values of TD are associated with both REM sleep *and* wake but high EMG values are only assoicated with wake (because there is very little muscle acitivity obsrved when mice are sleeping). Including this as a feature may enable better distinction between wake and REM sleep.\n",
    "\n",
    "We will explore how including a newly engineered feature, TD:EMG ratio, will assist in training the classifier:\n",
    "\n",
    "#### Calculate TD:EMG ratio (and pre and post TD:EMG ratios) and include in features"
   ]
  },
  {
   "cell_type": "code",
   "execution_count": 29,
   "metadata": {},
   "outputs": [],
   "source": [
    "df['td_emg'] = df['td']/df['emg']\n",
    "df['pre_td_emg'] = df['pre_td']/df['pre_emg']\n",
    "df['post_td_emg'] = df['post_td']/df['post_emg']"
   ]
  },
  {
   "cell_type": "code",
   "execution_count": 30,
   "metadata": {},
   "outputs": [],
   "source": [
    "X = df[['emg', 'td', 'theta', 'delta', 'alphabeta', 'low_gamma', 'class',\n",
    "       'hour', 'pre_emg', 'post_emg', 'pre_td', 'post_td',\n",
    "       'pre_theta', 'post_theta', 'pre_delta', 'post_delta', 'pre_alphabeta',\n",
    "       'post_alphabeta', 'pre_low_gamma', 'post_low_gamma', 'td_emg',\n",
    "       'pre_td_emg', 'post_td_emg']]\n",
    "y = df['class']"
   ]
  },
  {
   "cell_type": "markdown",
   "metadata": {},
   "source": [
    "#### Perform Train Test Split and utilize the previously instantiated 'pipe' to scale data and fit SVC with appropriate hyperparameters"
   ]
  },
  {
   "cell_type": "code",
   "execution_count": 31,
   "metadata": {},
   "outputs": [
    {
     "name": "stdout",
     "output_type": "stream",
     "text": [
      "Fitting 3 folds for each of 50 candidates, totalling 150 fits\n",
      "[CV] svc__C=0.1, svc__gamma=1, svc__kernel=linear ....................\n",
      "[CV]  svc__C=0.1, svc__gamma=1, svc__kernel=linear, score=1.000, total=   0.0s\n",
      "[CV] svc__C=0.1, svc__gamma=1, svc__kernel=linear ....................\n",
      "[CV]  svc__C=0.1, svc__gamma=1, svc__kernel=linear, score=1.000, total=   0.0s"
     ]
    },
    {
     "name": "stderr",
     "output_type": "stream",
     "text": [
      "C:\\ProgramData\\Anaconda3\\lib\\site-packages\\sklearn\\model_selection\\_split.py:1978: FutureWarning: The default value of cv will change from 3 to 5 in version 0.22. Specify it explicitly to silence this warning.\n",
      "  warnings.warn(CV_WARNING, FutureWarning)\n",
      "[Parallel(n_jobs=1)]: Using backend SequentialBackend with 1 concurrent workers.\n",
      "[Parallel(n_jobs=1)]: Done   1 out of   1 | elapsed:    0.0s remaining:    0.0s\n",
      "[Parallel(n_jobs=1)]: Done   2 out of   2 | elapsed:    0.0s remaining:    0.0s\n"
     ]
    },
    {
     "name": "stdout",
     "output_type": "stream",
     "text": [
      "\n",
      "[CV] svc__C=0.1, svc__gamma=1, svc__kernel=linear ....................\n",
      "[CV]  svc__C=0.1, svc__gamma=1, svc__kernel=linear, score=1.000, total=   0.1s\n",
      "[CV] svc__C=0.1, svc__gamma=1, svc__kernel=rbf .......................\n",
      "[CV]  svc__C=0.1, svc__gamma=1, svc__kernel=rbf, score=0.573, total=   0.7s\n",
      "[CV] svc__C=0.1, svc__gamma=1, svc__kernel=rbf .......................\n",
      "[CV]  svc__C=0.1, svc__gamma=1, svc__kernel=rbf, score=0.573, total=   0.7s\n",
      "[CV] svc__C=0.1, svc__gamma=1, svc__kernel=rbf .......................\n",
      "[CV]  svc__C=0.1, svc__gamma=1, svc__kernel=rbf, score=0.574, total=   0.9s\n",
      "[CV] svc__C=0.1, svc__gamma=0.1, svc__kernel=linear ..................\n",
      "[CV]  svc__C=0.1, svc__gamma=0.1, svc__kernel=linear, score=1.000, total=   0.0s\n",
      "[CV] svc__C=0.1, svc__gamma=0.1, svc__kernel=linear ..................\n",
      "[CV]  svc__C=0.1, svc__gamma=0.1, svc__kernel=linear, score=1.000, total=   0.0s\n",
      "[CV] svc__C=0.1, svc__gamma=0.1, svc__kernel=linear ..................\n",
      "[CV]  svc__C=0.1, svc__gamma=0.1, svc__kernel=linear, score=1.000, total=   0.0s\n",
      "[CV] svc__C=0.1, svc__gamma=0.1, svc__kernel=rbf .....................\n",
      "[CV]  svc__C=0.1, svc__gamma=0.1, svc__kernel=rbf, score=0.978, total=   0.2s\n",
      "[CV] svc__C=0.1, svc__gamma=0.1, svc__kernel=rbf .....................\n",
      "[CV]  svc__C=0.1, svc__gamma=0.1, svc__kernel=rbf, score=0.979, total=   0.3s\n",
      "[CV] svc__C=0.1, svc__gamma=0.1, svc__kernel=rbf .....................\n",
      "[CV]  svc__C=0.1, svc__gamma=0.1, svc__kernel=rbf, score=0.988, total=   0.2s\n",
      "[CV] svc__C=0.1, svc__gamma=0.01, svc__kernel=linear .................\n",
      "[CV]  svc__C=0.1, svc__gamma=0.01, svc__kernel=linear, score=1.000, total=   0.0s\n",
      "[CV] svc__C=0.1, svc__gamma=0.01, svc__kernel=linear .................\n",
      "[CV]  svc__C=0.1, svc__gamma=0.01, svc__kernel=linear, score=1.000, total=   0.0s\n",
      "[CV] svc__C=0.1, svc__gamma=0.01, svc__kernel=linear .................\n",
      "[CV]  svc__C=0.1, svc__gamma=0.01, svc__kernel=linear, score=1.000, total=   0.0s\n",
      "[CV] svc__C=0.1, svc__gamma=0.01, svc__kernel=rbf ....................\n",
      "[CV]  svc__C=0.1, svc__gamma=0.01, svc__kernel=rbf, score=0.990, total=   0.2s\n",
      "[CV] svc__C=0.1, svc__gamma=0.01, svc__kernel=rbf ....................\n",
      "[CV]  svc__C=0.1, svc__gamma=0.01, svc__kernel=rbf, score=0.993, total=   0.2s\n",
      "[CV] svc__C=0.1, svc__gamma=0.01, svc__kernel=rbf ....................\n",
      "[CV]  svc__C=0.1, svc__gamma=0.01, svc__kernel=rbf, score=0.994, total=   0.2s\n",
      "[CV] svc__C=0.1, svc__gamma=0.001, svc__kernel=linear ................\n",
      "[CV]  svc__C=0.1, svc__gamma=0.001, svc__kernel=linear, score=1.000, total=   0.0s\n",
      "[CV] svc__C=0.1, svc__gamma=0.001, svc__kernel=linear ................\n",
      "[CV]  svc__C=0.1, svc__gamma=0.001, svc__kernel=linear, score=1.000, total=   0.0s\n",
      "[CV] svc__C=0.1, svc__gamma=0.001, svc__kernel=linear ................\n",
      "[CV]  svc__C=0.1, svc__gamma=0.001, svc__kernel=linear, score=1.000, total=   0.0s\n",
      "[CV] svc__C=0.1, svc__gamma=0.001, svc__kernel=rbf ...................\n",
      "[CV]  svc__C=0.1, svc__gamma=0.001, svc__kernel=rbf, score=0.964, total=   0.4s\n",
      "[CV] svc__C=0.1, svc__gamma=0.001, svc__kernel=rbf ...................\n",
      "[CV]  svc__C=0.1, svc__gamma=0.001, svc__kernel=rbf, score=0.963, total=   0.4s\n",
      "[CV] svc__C=0.1, svc__gamma=0.001, svc__kernel=rbf ...................\n",
      "[CV]  svc__C=0.1, svc__gamma=0.001, svc__kernel=rbf, score=0.944, total=   0.4s\n",
      "[CV] svc__C=0.1, svc__gamma=0.0001, svc__kernel=linear ...............\n",
      "[CV]  svc__C=0.1, svc__gamma=0.0001, svc__kernel=linear, score=1.000, total=   0.0s\n",
      "[CV] svc__C=0.1, svc__gamma=0.0001, svc__kernel=linear ...............\n",
      "[CV]  svc__C=0.1, svc__gamma=0.0001, svc__kernel=linear, score=1.000, total=   0.0s\n",
      "[CV] svc__C=0.1, svc__gamma=0.0001, svc__kernel=linear ...............\n",
      "[CV]  svc__C=0.1, svc__gamma=0.0001, svc__kernel=linear, score=1.000, total=   0.0s\n",
      "[CV] svc__C=0.1, svc__gamma=0.0001, svc__kernel=rbf ..................\n",
      "[CV]  svc__C=0.1, svc__gamma=0.0001, svc__kernel=rbf, score=0.565, total=   0.5s\n",
      "[CV] svc__C=0.1, svc__gamma=0.0001, svc__kernel=rbf ..................\n",
      "[CV]  svc__C=0.1, svc__gamma=0.0001, svc__kernel=rbf, score=0.565, total=   0.5s\n",
      "[CV] svc__C=0.1, svc__gamma=0.0001, svc__kernel=rbf ..................\n",
      "[CV]  svc__C=0.1, svc__gamma=0.0001, svc__kernel=rbf, score=0.565, total=   0.5s\n",
      "[CV] svc__C=1, svc__gamma=1, svc__kernel=linear ......................\n",
      "[CV]  svc__C=1, svc__gamma=1, svc__kernel=linear, score=1.000, total=   0.1s\n",
      "[CV] svc__C=1, svc__gamma=1, svc__kernel=linear ......................\n",
      "[CV]  svc__C=1, svc__gamma=1, svc__kernel=linear, score=1.000, total=   0.1s\n",
      "[CV] svc__C=1, svc__gamma=1, svc__kernel=linear ......................\n",
      "[CV]  svc__C=1, svc__gamma=1, svc__kernel=linear, score=1.000, total=   0.1s\n",
      "[CV] svc__C=1, svc__gamma=1, svc__kernel=rbf .........................\n",
      "[CV]  svc__C=1, svc__gamma=1, svc__kernel=rbf, score=0.835, total=   0.8s\n",
      "[CV] svc__C=1, svc__gamma=1, svc__kernel=rbf .........................\n",
      "[CV]  svc__C=1, svc__gamma=1, svc__kernel=rbf, score=0.809, total=   0.9s\n",
      "[CV] svc__C=1, svc__gamma=1, svc__kernel=rbf .........................\n",
      "[CV]  svc__C=1, svc__gamma=1, svc__kernel=rbf, score=0.828, total=   0.8s\n",
      "[CV] svc__C=1, svc__gamma=0.1, svc__kernel=linear ....................\n",
      "[CV]  svc__C=1, svc__gamma=0.1, svc__kernel=linear, score=1.000, total=   0.0s\n",
      "[CV] svc__C=1, svc__gamma=0.1, svc__kernel=linear ....................\n",
      "[CV]  svc__C=1, svc__gamma=0.1, svc__kernel=linear, score=1.000, total=   0.0s\n",
      "[CV] svc__C=1, svc__gamma=0.1, svc__kernel=linear ....................\n",
      "[CV]  svc__C=1, svc__gamma=0.1, svc__kernel=linear, score=1.000, total=   0.0s\n",
      "[CV] svc__C=1, svc__gamma=0.1, svc__kernel=rbf .......................\n",
      "[CV]  svc__C=1, svc__gamma=0.1, svc__kernel=rbf, score=0.988, total=   0.1s\n",
      "[CV] svc__C=1, svc__gamma=0.1, svc__kernel=rbf .......................\n",
      "[CV]  svc__C=1, svc__gamma=0.1, svc__kernel=rbf, score=0.989, total=   0.1s\n",
      "[CV] svc__C=1, svc__gamma=0.1, svc__kernel=rbf .......................\n",
      "[CV]  svc__C=1, svc__gamma=0.1, svc__kernel=rbf, score=0.992, total=   0.1s\n",
      "[CV] svc__C=1, svc__gamma=0.01, svc__kernel=linear ...................\n",
      "[CV]  svc__C=1, svc__gamma=0.01, svc__kernel=linear, score=1.000, total=   0.0s\n",
      "[CV] svc__C=1, svc__gamma=0.01, svc__kernel=linear ...................\n",
      "[CV]  svc__C=1, svc__gamma=0.01, svc__kernel=linear, score=1.000, total=   0.0s\n",
      "[CV] svc__C=1, svc__gamma=0.01, svc__kernel=linear ...................\n",
      "[CV]  svc__C=1, svc__gamma=0.01, svc__kernel=linear, score=1.000, total=   0.0s\n",
      "[CV] svc__C=1, svc__gamma=0.01, svc__kernel=rbf ......................\n",
      "[CV]  svc__C=1, svc__gamma=0.01, svc__kernel=rbf, score=0.997, total=   0.1s\n",
      "[CV] svc__C=1, svc__gamma=0.01, svc__kernel=rbf ......................\n",
      "[CV]  svc__C=1, svc__gamma=0.01, svc__kernel=rbf, score=0.995, total=   0.1s\n",
      "[CV] svc__C=1, svc__gamma=0.01, svc__kernel=rbf ......................\n",
      "[CV]  svc__C=1, svc__gamma=0.01, svc__kernel=rbf, score=0.998, total=   0.1s\n",
      "[CV] svc__C=1, svc__gamma=0.001, svc__kernel=linear ..................\n",
      "[CV]  svc__C=1, svc__gamma=0.001, svc__kernel=linear, score=1.000, total=   0.0s\n",
      "[CV] svc__C=1, svc__gamma=0.001, svc__kernel=linear ..................\n",
      "[CV]  svc__C=1, svc__gamma=0.001, svc__kernel=linear, score=1.000, total=   0.0s\n",
      "[CV] svc__C=1, svc__gamma=0.001, svc__kernel=linear ..................\n",
      "[CV]  svc__C=1, svc__gamma=0.001, svc__kernel=linear, score=1.000, total=   0.0s\n",
      "[CV] svc__C=1, svc__gamma=0.001, svc__kernel=rbf .....................\n",
      "[CV]  svc__C=1, svc__gamma=0.001, svc__kernel=rbf, score=0.998, total=   0.2s\n",
      "[CV] svc__C=1, svc__gamma=0.001, svc__kernel=rbf .....................\n",
      "[CV]  svc__C=1, svc__gamma=0.001, svc__kernel=rbf, score=0.995, total=   0.2s\n",
      "[CV] svc__C=1, svc__gamma=0.001, svc__kernel=rbf .....................\n",
      "[CV]  svc__C=1, svc__gamma=0.001, svc__kernel=rbf, score=0.997, total=   0.2s\n",
      "[CV] svc__C=1, svc__gamma=0.0001, svc__kernel=linear .................\n",
      "[CV]  svc__C=1, svc__gamma=0.0001, svc__kernel=linear, score=1.000, total=   0.0s\n",
      "[CV] svc__C=1, svc__gamma=0.0001, svc__kernel=linear .................\n",
      "[CV]  svc__C=1, svc__gamma=0.0001, svc__kernel=linear, score=1.000, total=   0.0s\n",
      "[CV] svc__C=1, svc__gamma=0.0001, svc__kernel=linear .................\n",
      "[CV]  svc__C=1, svc__gamma=0.0001, svc__kernel=linear, score=1.000, total=   0.0s\n",
      "[CV] svc__C=1, svc__gamma=0.0001, svc__kernel=rbf ....................\n"
     ]
    },
    {
     "name": "stdout",
     "output_type": "stream",
     "text": [
      "[CV]  svc__C=1, svc__gamma=0.0001, svc__kernel=rbf, score=0.966, total=   0.4s\n",
      "[CV] svc__C=1, svc__gamma=0.0001, svc__kernel=rbf ....................\n",
      "[CV]  svc__C=1, svc__gamma=0.0001, svc__kernel=rbf, score=0.967, total=   0.4s\n",
      "[CV] svc__C=1, svc__gamma=0.0001, svc__kernel=rbf ....................\n",
      "[CV]  svc__C=1, svc__gamma=0.0001, svc__kernel=rbf, score=0.947, total=   0.5s\n",
      "[CV] svc__C=10, svc__gamma=1, svc__kernel=linear .....................\n",
      "[CV]  svc__C=10, svc__gamma=1, svc__kernel=linear, score=1.000, total=   0.0s\n",
      "[CV] svc__C=10, svc__gamma=1, svc__kernel=linear .....................\n",
      "[CV]  svc__C=10, svc__gamma=1, svc__kernel=linear, score=1.000, total=   0.0s\n",
      "[CV] svc__C=10, svc__gamma=1, svc__kernel=linear .....................\n",
      "[CV]  svc__C=10, svc__gamma=1, svc__kernel=linear, score=1.000, total=   0.0s\n",
      "[CV] svc__C=10, svc__gamma=1, svc__kernel=rbf ........................\n",
      "[CV]  svc__C=10, svc__gamma=1, svc__kernel=rbf, score=0.839, total=   0.8s\n",
      "[CV] svc__C=10, svc__gamma=1, svc__kernel=rbf ........................\n",
      "[CV]  svc__C=10, svc__gamma=1, svc__kernel=rbf, score=0.816, total=   0.9s\n",
      "[CV] svc__C=10, svc__gamma=1, svc__kernel=rbf ........................\n",
      "[CV]  svc__C=10, svc__gamma=1, svc__kernel=rbf, score=0.834, total=   0.8s\n",
      "[CV] svc__C=10, svc__gamma=0.1, svc__kernel=linear ...................\n",
      "[CV]  svc__C=10, svc__gamma=0.1, svc__kernel=linear, score=1.000, total=   0.0s\n",
      "[CV] svc__C=10, svc__gamma=0.1, svc__kernel=linear ...................\n",
      "[CV]  svc__C=10, svc__gamma=0.1, svc__kernel=linear, score=1.000, total=   0.0s\n",
      "[CV] svc__C=10, svc__gamma=0.1, svc__kernel=linear ...................\n",
      "[CV]  svc__C=10, svc__gamma=0.1, svc__kernel=linear, score=1.000, total=   0.0s\n",
      "[CV] svc__C=10, svc__gamma=0.1, svc__kernel=rbf ......................\n",
      "[CV]  svc__C=10, svc__gamma=0.1, svc__kernel=rbf, score=0.988, total=   0.1s\n",
      "[CV] svc__C=10, svc__gamma=0.1, svc__kernel=rbf ......................\n",
      "[CV]  svc__C=10, svc__gamma=0.1, svc__kernel=rbf, score=0.989, total=   0.1s\n",
      "[CV] svc__C=10, svc__gamma=0.1, svc__kernel=rbf ......................\n",
      "[CV]  svc__C=10, svc__gamma=0.1, svc__kernel=rbf, score=0.992, total=   0.1s\n",
      "[CV] svc__C=10, svc__gamma=0.01, svc__kernel=linear ..................\n",
      "[CV]  svc__C=10, svc__gamma=0.01, svc__kernel=linear, score=1.000, total=   0.0s\n",
      "[CV] svc__C=10, svc__gamma=0.01, svc__kernel=linear ..................\n",
      "[CV]  svc__C=10, svc__gamma=0.01, svc__kernel=linear, score=1.000, total=   0.0s\n",
      "[CV] svc__C=10, svc__gamma=0.01, svc__kernel=linear ..................\n",
      "[CV]  svc__C=10, svc__gamma=0.01, svc__kernel=linear, score=1.000, total=   0.0s\n",
      "[CV] svc__C=10, svc__gamma=0.01, svc__kernel=rbf .....................\n",
      "[CV]  svc__C=10, svc__gamma=0.01, svc__kernel=rbf, score=0.997, total=   0.0s\n",
      "[CV] svc__C=10, svc__gamma=0.01, svc__kernel=rbf .....................\n",
      "[CV]  svc__C=10, svc__gamma=0.01, svc__kernel=rbf, score=0.995, total=   0.1s\n",
      "[CV] svc__C=10, svc__gamma=0.01, svc__kernel=rbf .....................\n",
      "[CV]  svc__C=10, svc__gamma=0.01, svc__kernel=rbf, score=0.998, total=   0.1s\n",
      "[CV] svc__C=10, svc__gamma=0.001, svc__kernel=linear .................\n",
      "[CV]  svc__C=10, svc__gamma=0.001, svc__kernel=linear, score=1.000, total=   0.0s\n",
      "[CV] svc__C=10, svc__gamma=0.001, svc__kernel=linear .................\n",
      "[CV]  svc__C=10, svc__gamma=0.001, svc__kernel=linear, score=1.000, total=   0.0s\n",
      "[CV] svc__C=10, svc__gamma=0.001, svc__kernel=linear .................\n",
      "[CV]  svc__C=10, svc__gamma=0.001, svc__kernel=linear, score=1.000, total=   0.0s\n",
      "[CV] svc__C=10, svc__gamma=0.001, svc__kernel=rbf ....................\n",
      "[CV]  svc__C=10, svc__gamma=0.001, svc__kernel=rbf, score=1.000, total=   0.1s\n",
      "[CV] svc__C=10, svc__gamma=0.001, svc__kernel=rbf ....................\n",
      "[CV]  svc__C=10, svc__gamma=0.001, svc__kernel=rbf, score=0.999, total=   0.1s\n",
      "[CV] svc__C=10, svc__gamma=0.001, svc__kernel=rbf ....................\n",
      "[CV]  svc__C=10, svc__gamma=0.001, svc__kernel=rbf, score=0.998, total=   0.1s\n",
      "[CV] svc__C=10, svc__gamma=0.0001, svc__kernel=linear ................\n",
      "[CV]  svc__C=10, svc__gamma=0.0001, svc__kernel=linear, score=1.000, total=   0.0s\n",
      "[CV] svc__C=10, svc__gamma=0.0001, svc__kernel=linear ................\n",
      "[CV]  svc__C=10, svc__gamma=0.0001, svc__kernel=linear, score=1.000, total=   0.0s\n",
      "[CV] svc__C=10, svc__gamma=0.0001, svc__kernel=linear ................\n",
      "[CV]  svc__C=10, svc__gamma=0.0001, svc__kernel=linear, score=1.000, total=   0.0s\n",
      "[CV] svc__C=10, svc__gamma=0.0001, svc__kernel=rbf ...................\n",
      "[CV]  svc__C=10, svc__gamma=0.0001, svc__kernel=rbf, score=0.998, total=   0.2s\n",
      "[CV] svc__C=10, svc__gamma=0.0001, svc__kernel=rbf ...................\n",
      "[CV]  svc__C=10, svc__gamma=0.0001, svc__kernel=rbf, score=0.996, total=   0.2s\n",
      "[CV] svc__C=10, svc__gamma=0.0001, svc__kernel=rbf ...................\n",
      "[CV]  svc__C=10, svc__gamma=0.0001, svc__kernel=rbf, score=0.999, total=   0.2s\n",
      "[CV] svc__C=100, svc__gamma=1, svc__kernel=linear ....................\n",
      "[CV]  svc__C=100, svc__gamma=1, svc__kernel=linear, score=1.000, total=   0.0s\n",
      "[CV] svc__C=100, svc__gamma=1, svc__kernel=linear ....................\n",
      "[CV]  svc__C=100, svc__gamma=1, svc__kernel=linear, score=1.000, total=   0.0s\n",
      "[CV] svc__C=100, svc__gamma=1, svc__kernel=linear ....................\n",
      "[CV]  svc__C=100, svc__gamma=1, svc__kernel=linear, score=1.000, total=   0.0s\n",
      "[CV] svc__C=100, svc__gamma=1, svc__kernel=rbf .......................\n",
      "[CV]  svc__C=100, svc__gamma=1, svc__kernel=rbf, score=0.839, total=   0.8s\n",
      "[CV] svc__C=100, svc__gamma=1, svc__kernel=rbf .......................\n",
      "[CV]  svc__C=100, svc__gamma=1, svc__kernel=rbf, score=0.816, total=   0.8s\n",
      "[CV] svc__C=100, svc__gamma=1, svc__kernel=rbf .......................\n",
      "[CV]  svc__C=100, svc__gamma=1, svc__kernel=rbf, score=0.834, total=   0.9s\n",
      "[CV] svc__C=100, svc__gamma=0.1, svc__kernel=linear ..................\n",
      "[CV]  svc__C=100, svc__gamma=0.1, svc__kernel=linear, score=1.000, total=   0.0s\n",
      "[CV] svc__C=100, svc__gamma=0.1, svc__kernel=linear ..................\n",
      "[CV]  svc__C=100, svc__gamma=0.1, svc__kernel=linear, score=1.000, total=   0.0s\n",
      "[CV] svc__C=100, svc__gamma=0.1, svc__kernel=linear ..................\n",
      "[CV]  svc__C=100, svc__gamma=0.1, svc__kernel=linear, score=1.000, total=   0.0s\n",
      "[CV] svc__C=100, svc__gamma=0.1, svc__kernel=rbf .....................\n",
      "[CV]  svc__C=100, svc__gamma=0.1, svc__kernel=rbf, score=0.988, total=   0.1s\n",
      "[CV] svc__C=100, svc__gamma=0.1, svc__kernel=rbf .....................\n",
      "[CV]  svc__C=100, svc__gamma=0.1, svc__kernel=rbf, score=0.989, total=   0.1s\n",
      "[CV] svc__C=100, svc__gamma=0.1, svc__kernel=rbf .....................\n",
      "[CV]  svc__C=100, svc__gamma=0.1, svc__kernel=rbf, score=0.992, total=   0.1s\n",
      "[CV] svc__C=100, svc__gamma=0.01, svc__kernel=linear .................\n",
      "[CV]  svc__C=100, svc__gamma=0.01, svc__kernel=linear, score=1.000, total=   0.0s\n",
      "[CV] svc__C=100, svc__gamma=0.01, svc__kernel=linear .................\n",
      "[CV]  svc__C=100, svc__gamma=0.01, svc__kernel=linear, score=1.000, total=   0.0s\n",
      "[CV] svc__C=100, svc__gamma=0.01, svc__kernel=linear .................\n",
      "[CV]  svc__C=100, svc__gamma=0.01, svc__kernel=linear, score=1.000, total=   0.0s\n",
      "[CV] svc__C=100, svc__gamma=0.01, svc__kernel=rbf ....................\n",
      "[CV]  svc__C=100, svc__gamma=0.01, svc__kernel=rbf, score=0.997, total=   0.0s\n",
      "[CV] svc__C=100, svc__gamma=0.01, svc__kernel=rbf ....................\n",
      "[CV]  svc__C=100, svc__gamma=0.01, svc__kernel=rbf, score=0.995, total=   0.1s\n",
      "[CV] svc__C=100, svc__gamma=0.01, svc__kernel=rbf ....................\n",
      "[CV]  svc__C=100, svc__gamma=0.01, svc__kernel=rbf, score=0.998, total=   0.1s\n",
      "[CV] svc__C=100, svc__gamma=0.001, svc__kernel=linear ................\n",
      "[CV]  svc__C=100, svc__gamma=0.001, svc__kernel=linear, score=1.000, total=   0.0s\n",
      "[CV] svc__C=100, svc__gamma=0.001, svc__kernel=linear ................\n",
      "[CV]  svc__C=100, svc__gamma=0.001, svc__kernel=linear, score=1.000, total=   0.0s\n",
      "[CV] svc__C=100, svc__gamma=0.001, svc__kernel=linear ................\n",
      "[CV]  svc__C=100, svc__gamma=0.001, svc__kernel=linear, score=1.000, total=   0.0s\n",
      "[CV] svc__C=100, svc__gamma=0.001, svc__kernel=rbf ...................\n",
      "[CV]  svc__C=100, svc__gamma=0.001, svc__kernel=rbf, score=1.000, total=   0.1s\n",
      "[CV] svc__C=100, svc__gamma=0.001, svc__kernel=rbf ...................\n",
      "[CV]  svc__C=100, svc__gamma=0.001, svc__kernel=rbf, score=0.999, total=   0.1s\n",
      "[CV] svc__C=100, svc__gamma=0.001, svc__kernel=rbf ...................\n",
      "[CV]  svc__C=100, svc__gamma=0.001, svc__kernel=rbf, score=0.998, total=   0.1s\n",
      "[CV] svc__C=100, svc__gamma=0.0001, svc__kernel=linear ...............\n",
      "[CV]  svc__C=100, svc__gamma=0.0001, svc__kernel=linear, score=1.000, total=   0.0s\n",
      "[CV] svc__C=100, svc__gamma=0.0001, svc__kernel=linear ...............\n"
     ]
    },
    {
     "name": "stdout",
     "output_type": "stream",
     "text": [
      "[CV]  svc__C=100, svc__gamma=0.0001, svc__kernel=linear, score=1.000, total=   0.0s\n",
      "[CV] svc__C=100, svc__gamma=0.0001, svc__kernel=linear ...............\n",
      "[CV]  svc__C=100, svc__gamma=0.0001, svc__kernel=linear, score=1.000, total=   0.0s\n",
      "[CV] svc__C=100, svc__gamma=0.0001, svc__kernel=rbf ..................\n",
      "[CV]  svc__C=100, svc__gamma=0.0001, svc__kernel=rbf, score=1.000, total=   0.1s\n",
      "[CV] svc__C=100, svc__gamma=0.0001, svc__kernel=rbf ..................\n",
      "[CV]  svc__C=100, svc__gamma=0.0001, svc__kernel=rbf, score=1.000, total=   0.1s\n",
      "[CV] svc__C=100, svc__gamma=0.0001, svc__kernel=rbf ..................\n",
      "[CV]  svc__C=100, svc__gamma=0.0001, svc__kernel=rbf, score=1.000, total=   0.1s\n",
      "[CV] svc__C=1000, svc__gamma=1, svc__kernel=linear ...................\n",
      "[CV]  svc__C=1000, svc__gamma=1, svc__kernel=linear, score=1.000, total=   0.0s\n",
      "[CV] svc__C=1000, svc__gamma=1, svc__kernel=linear ...................\n",
      "[CV]  svc__C=1000, svc__gamma=1, svc__kernel=linear, score=1.000, total=   0.0s\n",
      "[CV] svc__C=1000, svc__gamma=1, svc__kernel=linear ...................\n",
      "[CV]  svc__C=1000, svc__gamma=1, svc__kernel=linear, score=1.000, total=   0.1s\n",
      "[CV] svc__C=1000, svc__gamma=1, svc__kernel=rbf ......................\n",
      "[CV]  svc__C=1000, svc__gamma=1, svc__kernel=rbf, score=0.839, total=   0.8s\n",
      "[CV] svc__C=1000, svc__gamma=1, svc__kernel=rbf ......................\n",
      "[CV]  svc__C=1000, svc__gamma=1, svc__kernel=rbf, score=0.816, total=   0.8s\n",
      "[CV] svc__C=1000, svc__gamma=1, svc__kernel=rbf ......................\n",
      "[CV]  svc__C=1000, svc__gamma=1, svc__kernel=rbf, score=0.834, total=   0.8s\n",
      "[CV] svc__C=1000, svc__gamma=0.1, svc__kernel=linear .................\n",
      "[CV]  svc__C=1000, svc__gamma=0.1, svc__kernel=linear, score=1.000, total=   0.0s\n",
      "[CV] svc__C=1000, svc__gamma=0.1, svc__kernel=linear .................\n",
      "[CV]  svc__C=1000, svc__gamma=0.1, svc__kernel=linear, score=1.000, total=   0.0s\n",
      "[CV] svc__C=1000, svc__gamma=0.1, svc__kernel=linear .................\n",
      "[CV]  svc__C=1000, svc__gamma=0.1, svc__kernel=linear, score=1.000, total=   0.0s\n",
      "[CV] svc__C=1000, svc__gamma=0.1, svc__kernel=rbf ....................\n",
      "[CV]  svc__C=1000, svc__gamma=0.1, svc__kernel=rbf, score=0.988, total=   0.1s\n",
      "[CV] svc__C=1000, svc__gamma=0.1, svc__kernel=rbf ....................\n",
      "[CV]  svc__C=1000, svc__gamma=0.1, svc__kernel=rbf, score=0.989, total=   0.1s\n",
      "[CV] svc__C=1000, svc__gamma=0.1, svc__kernel=rbf ....................\n",
      "[CV]  svc__C=1000, svc__gamma=0.1, svc__kernel=rbf, score=0.992, total=   0.1s\n",
      "[CV] svc__C=1000, svc__gamma=0.01, svc__kernel=linear ................\n",
      "[CV]  svc__C=1000, svc__gamma=0.01, svc__kernel=linear, score=1.000, total=   0.0s\n",
      "[CV] svc__C=1000, svc__gamma=0.01, svc__kernel=linear ................\n",
      "[CV]  svc__C=1000, svc__gamma=0.01, svc__kernel=linear, score=1.000, total=   0.0s\n",
      "[CV] svc__C=1000, svc__gamma=0.01, svc__kernel=linear ................\n",
      "[CV]  svc__C=1000, svc__gamma=0.01, svc__kernel=linear, score=1.000, total=   0.0s\n",
      "[CV] svc__C=1000, svc__gamma=0.01, svc__kernel=rbf ...................\n",
      "[CV]  svc__C=1000, svc__gamma=0.01, svc__kernel=rbf, score=0.997, total=   0.0s\n",
      "[CV] svc__C=1000, svc__gamma=0.01, svc__kernel=rbf ...................\n",
      "[CV]  svc__C=1000, svc__gamma=0.01, svc__kernel=rbf, score=0.995, total=   0.1s\n",
      "[CV] svc__C=1000, svc__gamma=0.01, svc__kernel=rbf ...................\n",
      "[CV]  svc__C=1000, svc__gamma=0.01, svc__kernel=rbf, score=0.998, total=   0.1s\n",
      "[CV] svc__C=1000, svc__gamma=0.001, svc__kernel=linear ...............\n",
      "[CV]  svc__C=1000, svc__gamma=0.001, svc__kernel=linear, score=1.000, total=   0.0s\n",
      "[CV] svc__C=1000, svc__gamma=0.001, svc__kernel=linear ...............\n",
      "[CV]  svc__C=1000, svc__gamma=0.001, svc__kernel=linear, score=1.000, total=   0.0s\n",
      "[CV] svc__C=1000, svc__gamma=0.001, svc__kernel=linear ...............\n",
      "[CV]  svc__C=1000, svc__gamma=0.001, svc__kernel=linear, score=1.000, total=   0.1s\n",
      "[CV] svc__C=1000, svc__gamma=0.001, svc__kernel=rbf ..................\n",
      "[CV]  svc__C=1000, svc__gamma=0.001, svc__kernel=rbf, score=1.000, total=   0.1s\n",
      "[CV] svc__C=1000, svc__gamma=0.001, svc__kernel=rbf ..................\n",
      "[CV]  svc__C=1000, svc__gamma=0.001, svc__kernel=rbf, score=0.999, total=   0.1s\n",
      "[CV] svc__C=1000, svc__gamma=0.001, svc__kernel=rbf ..................\n",
      "[CV]  svc__C=1000, svc__gamma=0.001, svc__kernel=rbf, score=0.998, total=   0.1s\n",
      "[CV] svc__C=1000, svc__gamma=0.0001, svc__kernel=linear ..............\n",
      "[CV]  svc__C=1000, svc__gamma=0.0001, svc__kernel=linear, score=1.000, total=   0.1s\n",
      "[CV] svc__C=1000, svc__gamma=0.0001, svc__kernel=linear ..............\n",
      "[CV]  svc__C=1000, svc__gamma=0.0001, svc__kernel=linear, score=1.000, total=   0.0s\n",
      "[CV] svc__C=1000, svc__gamma=0.0001, svc__kernel=linear ..............\n",
      "[CV]  svc__C=1000, svc__gamma=0.0001, svc__kernel=linear, score=1.000, total=   0.1s\n",
      "[CV] svc__C=1000, svc__gamma=0.0001, svc__kernel=rbf .................\n",
      "[CV]  svc__C=1000, svc__gamma=0.0001, svc__kernel=rbf, score=1.000, total=   0.1s\n",
      "[CV] svc__C=1000, svc__gamma=0.0001, svc__kernel=rbf .................\n",
      "[CV]  svc__C=1000, svc__gamma=0.0001, svc__kernel=rbf, score=1.000, total=   0.2s\n",
      "[CV] svc__C=1000, svc__gamma=0.0001, svc__kernel=rbf .................\n",
      "[CV]  svc__C=1000, svc__gamma=0.0001, svc__kernel=rbf, score=0.999, total=   0.1s\n"
     ]
    },
    {
     "name": "stderr",
     "output_type": "stream",
     "text": [
      "[Parallel(n_jobs=1)]: Done 150 out of 150 | elapsed:   25.2s finished\n"
     ]
    },
    {
     "data": {
      "text/plain": [
       "GridSearchCV(cv='warn', error_score='raise-deprecating',\n",
       "             estimator=Pipeline(memory=None,\n",
       "                                steps=[('standardscaler',\n",
       "                                        StandardScaler(copy=True,\n",
       "                                                       with_mean=True,\n",
       "                                                       with_std=True)),\n",
       "                                       ('svc',\n",
       "                                        SVC(C=1.0, cache_size=200,\n",
       "                                            class_weight=None, coef0=0.0,\n",
       "                                            decision_function_shape='ovr',\n",
       "                                            degree=3, gamma='auto_deprecated',\n",
       "                                            kernel='rbf', max_iter=-1,\n",
       "                                            probability=False,\n",
       "                                            random_state=None, shrinking=True,\n",
       "                                            tol=0.001, verbose=False))],\n",
       "                                verbose=False),\n",
       "             iid='warn', n_jobs=None,\n",
       "             param_grid={'svc__C': [0.1, 1, 10, 100, 1000],\n",
       "                         'svc__gamma': [1, 0.1, 0.01, 0.001, 0.0001],\n",
       "                         'svc__kernel': ('linear', 'rbf')},\n",
       "             pre_dispatch='2*n_jobs', refit=True, return_train_score=False,\n",
       "             scoring=None, verbose=3)"
      ]
     },
     "execution_count": 31,
     "metadata": {},
     "output_type": "execute_result"
    }
   ],
   "source": [
    "X_train, X_test, y_train, y_test = train_test_split(X, y, test_size=0.3, random_state=42)\n",
    "new_gs = GridSearchCV(pipe, param_grid,verbose=3)\n",
    "new_gs.fit(X_train, y_train)"
   ]
  },
  {
   "cell_type": "code",
   "execution_count": 32,
   "metadata": {},
   "outputs": [
    {
     "data": {
      "text/plain": [
       "Pipeline(memory=None,\n",
       "         steps=[('standardscaler',\n",
       "                 StandardScaler(copy=True, with_mean=True, with_std=True)),\n",
       "                ('svc',\n",
       "                 SVC(C=0.1, cache_size=200, class_weight=None, coef0=0.0,\n",
       "                     decision_function_shape='ovr', degree=3, gamma=1,\n",
       "                     kernel='linear', max_iter=-1, probability=False,\n",
       "                     random_state=None, shrinking=True, tol=0.001,\n",
       "                     verbose=False))],\n",
       "         verbose=False)"
      ]
     },
     "execution_count": 32,
     "metadata": {},
     "output_type": "execute_result"
    }
   ],
   "source": [
    "new_gs.best_estimator_"
   ]
  },
  {
   "cell_type": "code",
   "execution_count": 33,
   "metadata": {},
   "outputs": [],
   "source": [
    "new_pipe_predict = new_gs.predict(X_test)"
   ]
  },
  {
   "cell_type": "code",
   "execution_count": 34,
   "metadata": {},
   "outputs": [
    {
     "name": "stdout",
     "output_type": "stream",
     "text": [
      "[[ 649    0    0]\n",
      " [   0 1101    0]\n",
      " [   0    0  193]]\n",
      "              precision    recall  f1-score   support\n",
      "\n",
      "           1       1.00      1.00      1.00       649\n",
      "           2       1.00      1.00      1.00      1101\n",
      "           3       1.00      1.00      1.00       193\n",
      "\n",
      "    accuracy                           1.00      1943\n",
      "   macro avg       1.00      1.00      1.00      1943\n",
      "weighted avg       1.00      1.00      1.00      1943\n",
      "\n"
     ]
    }
   ],
   "source": [
    "print(confusion_matrix(y_test,new_pipe_predict))\n",
    "print(classification_report(y_test,new_pipe_predict))"
   ]
  },
  {
   "cell_type": "markdown",
   "metadata": {},
   "source": [
    "## Summary\n",
    "\n",
    "After including the TD:EMG feature, the model appears to be classifying the sleep data perfectly. Had this not been the cases, we could have tried to improve the classifier in several ways:\n",
    "\n",
    "- including additional features such as heart rate and breathing rate\n",
    "- engineer additional features from the EEG and EMG features similarly to the TD:EMG features\n",
    "- Explore other modes (e.g. decision trees, random forest classifers, artificial neural networks)"
   ]
  }
 ],
 "metadata": {
  "kernelspec": {
   "display_name": "Python 3",
   "language": "python",
   "name": "python3"
  },
  "language_info": {
   "codemirror_mode": {
    "name": "ipython",
    "version": 3
   },
   "file_extension": ".py",
   "mimetype": "text/x-python",
   "name": "python",
   "nbconvert_exporter": "python",
   "pygments_lexer": "ipython3",
   "version": "3.7.4"
  }
 },
 "nbformat": 4,
 "nbformat_minor": 2
}
